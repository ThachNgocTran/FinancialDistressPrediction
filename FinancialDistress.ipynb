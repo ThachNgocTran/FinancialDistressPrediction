{
 "cells": [
  {
   "cell_type": "markdown",
   "metadata": {},
   "source": [
    "# Financial Distress Prediction"
   ]
  },
  {
   "cell_type": "markdown",
   "metadata": {},
   "source": [
    "### TABLE OF CONTENTS\n",
    "\n",
    "[1. Introduction](#one)  \n",
    "[2. Data Pre-processing](#two)  \n",
    "[3. Data Exploration](#three)  \n",
    "[4. Model Building](#four)  \n",
    "[5. Validation](#five)  \n",
    "[6. Summary](#six)  \n",
    "[7. Future Works](#seven)  \n",
    "[References](#references)  "
   ]
  },
  {
   "cell_type": "markdown",
   "metadata": {},
   "source": [
    "---"
   ]
  },
  {
   "cell_type": "markdown",
   "metadata": {},
   "source": [
    "## 1. Introduction <a class=\"anchor\" id=\"one\"></a>"
   ]
  },
  {
   "cell_type": "markdown",
   "metadata": {},
   "source": [
    "Predictive algorithms are increasingly used in business today in order to gain competitive advantages. With a specific problem and appropriate datasets, they helps business to forecast what is the best action course to follow. Decisions, thus, are made based on data-driven approach (rather than \"intuition\" and \"experience\")."
   ]
  },
  {
   "cell_type": "markdown",
   "metadata": {},
   "source": [
    "In this report, we are going to use a Kaggle dataset (see [1]) to predict financial distress of a person, given their history, thus, facilitating the bank to decide if they should proceed with this person."
   ]
  },
  {
   "cell_type": "markdown",
   "metadata": {},
   "source": [
    "---"
   ]
  },
  {
   "cell_type": "markdown",
   "metadata": {},
   "source": [
    "## 2. Data Pre-processing <a class=\"anchor\" id=\"two\"></a>"
   ]
  },
  {
   "cell_type": "code",
   "execution_count": 1,
   "metadata": {},
   "outputs": [],
   "source": [
    "# Necessary imports.\n",
    "import pandas as pd\n",
    "import numpy as np\n",
    "import matplotlib.pyplot as plt\n",
    "from sklearn.model_selection import GridSearchCV\n",
    "from sklearn.ensemble import RandomForestClassifier\n",
    "from sklearn.metrics import roc_curve, auc"
   ]
  },
  {
   "cell_type": "code",
   "execution_count": 2,
   "metadata": {},
   "outputs": [],
   "source": [
    "# Necessary configs.\n",
    "# Disable printing scientific notation.\n",
    "np.set_printoptions(suppress=True)"
   ]
  },
  {
   "cell_type": "code",
   "execution_count": 3,
   "metadata": {},
   "outputs": [],
   "source": [
    "train_dataset = pd.read_csv(\"cs-training.csv\", header = \"infer\", sep = \",\", encoding = \"utf-8\")"
   ]
  },
  {
   "cell_type": "code",
   "execution_count": 4,
   "metadata": {},
   "outputs": [
    {
     "data": {
      "text/html": [
       "<div>\n",
       "<style scoped>\n",
       "    .dataframe tbody tr th:only-of-type {\n",
       "        vertical-align: middle;\n",
       "    }\n",
       "\n",
       "    .dataframe tbody tr th {\n",
       "        vertical-align: top;\n",
       "    }\n",
       "\n",
       "    .dataframe thead th {\n",
       "        text-align: right;\n",
       "    }\n",
       "</style>\n",
       "<table border=\"1\" class=\"dataframe\">\n",
       "  <thead>\n",
       "    <tr style=\"text-align: right;\">\n",
       "      <th></th>\n",
       "      <th>Unnamed: 0</th>\n",
       "      <th>SeriousDlqin2yrs</th>\n",
       "      <th>RevolvingUtilizationOfUnsecuredLines</th>\n",
       "      <th>age</th>\n",
       "      <th>NumberOfTime30-59DaysPastDueNotWorse</th>\n",
       "      <th>DebtRatio</th>\n",
       "      <th>MonthlyIncome</th>\n",
       "      <th>NumberOfOpenCreditLinesAndLoans</th>\n",
       "      <th>NumberOfTimes90DaysLate</th>\n",
       "      <th>NumberRealEstateLoansOrLines</th>\n",
       "      <th>NumberOfTime60-89DaysPastDueNotWorse</th>\n",
       "      <th>NumberOfDependents</th>\n",
       "    </tr>\n",
       "  </thead>\n",
       "  <tbody>\n",
       "    <tr>\n",
       "      <th>0</th>\n",
       "      <td>1</td>\n",
       "      <td>1</td>\n",
       "      <td>0.766127</td>\n",
       "      <td>45</td>\n",
       "      <td>2</td>\n",
       "      <td>0.802982</td>\n",
       "      <td>9120.0</td>\n",
       "      <td>13</td>\n",
       "      <td>0</td>\n",
       "      <td>6</td>\n",
       "      <td>0</td>\n",
       "      <td>2.0</td>\n",
       "    </tr>\n",
       "    <tr>\n",
       "      <th>1</th>\n",
       "      <td>2</td>\n",
       "      <td>0</td>\n",
       "      <td>0.957151</td>\n",
       "      <td>40</td>\n",
       "      <td>0</td>\n",
       "      <td>0.121876</td>\n",
       "      <td>2600.0</td>\n",
       "      <td>4</td>\n",
       "      <td>0</td>\n",
       "      <td>0</td>\n",
       "      <td>0</td>\n",
       "      <td>1.0</td>\n",
       "    </tr>\n",
       "    <tr>\n",
       "      <th>2</th>\n",
       "      <td>3</td>\n",
       "      <td>0</td>\n",
       "      <td>0.658180</td>\n",
       "      <td>38</td>\n",
       "      <td>1</td>\n",
       "      <td>0.085113</td>\n",
       "      <td>3042.0</td>\n",
       "      <td>2</td>\n",
       "      <td>1</td>\n",
       "      <td>0</td>\n",
       "      <td>0</td>\n",
       "      <td>0.0</td>\n",
       "    </tr>\n",
       "    <tr>\n",
       "      <th>3</th>\n",
       "      <td>4</td>\n",
       "      <td>0</td>\n",
       "      <td>0.233810</td>\n",
       "      <td>30</td>\n",
       "      <td>0</td>\n",
       "      <td>0.036050</td>\n",
       "      <td>3300.0</td>\n",
       "      <td>5</td>\n",
       "      <td>0</td>\n",
       "      <td>0</td>\n",
       "      <td>0</td>\n",
       "      <td>0.0</td>\n",
       "    </tr>\n",
       "    <tr>\n",
       "      <th>4</th>\n",
       "      <td>5</td>\n",
       "      <td>0</td>\n",
       "      <td>0.907239</td>\n",
       "      <td>49</td>\n",
       "      <td>1</td>\n",
       "      <td>0.024926</td>\n",
       "      <td>63588.0</td>\n",
       "      <td>7</td>\n",
       "      <td>0</td>\n",
       "      <td>1</td>\n",
       "      <td>0</td>\n",
       "      <td>0.0</td>\n",
       "    </tr>\n",
       "  </tbody>\n",
       "</table>\n",
       "</div>"
      ],
      "text/plain": [
       "   Unnamed: 0  SeriousDlqin2yrs  RevolvingUtilizationOfUnsecuredLines  age  \\\n",
       "0           1                 1                              0.766127   45   \n",
       "1           2                 0                              0.957151   40   \n",
       "2           3                 0                              0.658180   38   \n",
       "3           4                 0                              0.233810   30   \n",
       "4           5                 0                              0.907239   49   \n",
       "\n",
       "   NumberOfTime30-59DaysPastDueNotWorse  DebtRatio  MonthlyIncome  \\\n",
       "0                                     2   0.802982         9120.0   \n",
       "1                                     0   0.121876         2600.0   \n",
       "2                                     1   0.085113         3042.0   \n",
       "3                                     0   0.036050         3300.0   \n",
       "4                                     1   0.024926        63588.0   \n",
       "\n",
       "   NumberOfOpenCreditLinesAndLoans  NumberOfTimes90DaysLate  \\\n",
       "0                               13                        0   \n",
       "1                                4                        0   \n",
       "2                                2                        1   \n",
       "3                                5                        0   \n",
       "4                                7                        0   \n",
       "\n",
       "   NumberRealEstateLoansOrLines  NumberOfTime60-89DaysPastDueNotWorse  \\\n",
       "0                             6                                     0   \n",
       "1                             0                                     0   \n",
       "2                             0                                     0   \n",
       "3                             0                                     0   \n",
       "4                             1                                     0   \n",
       "\n",
       "   NumberOfDependents  \n",
       "0                 2.0  \n",
       "1                 1.0  \n",
       "2                 0.0  \n",
       "3                 0.0  \n",
       "4                 0.0  "
      ]
     },
     "execution_count": 4,
     "metadata": {},
     "output_type": "execute_result"
    }
   ],
   "source": [
    "train_dataset.head()"
   ]
  },
  {
   "cell_type": "markdown",
   "metadata": {},
   "source": [
    "The original dataset also includes \"Data Dictionary.xls\", which describes the features. The data needs to be double-checked if it follows the format expectation.\n",
    "\n",
    "* **SeriousDlqin2yrs**: Person experienced 90 days past due delinquency or worse. Yes/No.\n",
    "  + Check: The values should contain either 1 or 0."
   ]
  },
  {
   "cell_type": "code",
   "execution_count": 5,
   "metadata": {},
   "outputs": [
    {
     "data": {
      "text/plain": [
       "array([0, 1], dtype=int64)"
      ]
     },
     "execution_count": 5,
     "metadata": {},
     "output_type": "execute_result"
    }
   ],
   "source": [
    "np.sort(train_dataset.loc[:, 'SeriousDlqin2yrs'].unique())"
   ]
  },
  {
   "cell_type": "markdown",
   "metadata": {},
   "source": [
    "* **RevolvingUtilizationOfUnsecuredLines**: Total balance on credit cards and personal lines of credit except real estate and no installment debt like car loans divided by the sum of credit limits. Percentage.\n",
    "  + Check: Positive real numbers from 0 to 1."
   ]
  },
  {
   "cell_type": "code",
   "execution_count": 6,
   "metadata": {},
   "outputs": [
    {
     "data": {
      "text/plain": [
       "array([     0.        ,      0.00000837,      0.00000993, ...,\n",
       "        22198.        ,  29110.        ,  50708.        ])"
      ]
     },
     "execution_count": 6,
     "metadata": {},
     "output_type": "execute_result"
    }
   ],
   "source": [
    "np.sort(train_dataset.loc[:, 'RevolvingUtilizationOfUnsecuredLines'].unique())"
   ]
  },
  {
   "cell_type": "markdown",
   "metadata": {},
   "source": [
    "This seems strange! \"Data Dictionary.xls\" explained the meaning behind this feature, but not how this feature is presented. The Kaggle Discussion Forum for this dataset (see [1], [2]) gave no actionable clue on this."
   ]
  },
  {
   "cell_type": "code",
   "execution_count": 7,
   "metadata": {},
   "outputs": [
    {
     "data": {
      "text/plain": [
       "0.02214"
      ]
     },
     "execution_count": 7,
     "metadata": {},
     "output_type": "execute_result"
    }
   ],
   "source": [
    "((train_dataset.loc[:, 'RevolvingUtilizationOfUnsecuredLines'] > 1).sum() / train_dataset.shape[0])"
   ]
  },
  {
   "cell_type": "markdown",
   "metadata": {},
   "source": [
    "About 2.21% of data have this issue. There is no clear explanation of how the data is computed. So, it is advised to keep \"as is\". The good news is this column contains neither NULL/NA/NaN/Blank nor categorical data."
   ]
  },
  {
   "cell_type": "markdown",
   "metadata": {},
   "source": [
    "* **age**: Age of borrower in years. Integer.\n",
    "  + Check: Positive natural numbers from 1 to, let's say, 122. See [4]."
   ]
  },
  {
   "cell_type": "code",
   "execution_count": 8,
   "metadata": {},
   "outputs": [
    {
     "data": {
      "text/plain": [
       "array([  0,  21,  22,  23,  24,  25,  26,  27,  28,  29,  30,  31,  32,\n",
       "        33,  34,  35,  36,  37,  38,  39,  40,  41,  42,  43,  44,  45,\n",
       "        46,  47,  48,  49,  50,  51,  52,  53,  54,  55,  56,  57,  58,\n",
       "        59,  60,  61,  62,  63,  64,  65,  66,  67,  68,  69,  70,  71,\n",
       "        72,  73,  74,  75,  76,  77,  78,  79,  80,  81,  82,  83,  84,\n",
       "        85,  86,  87,  88,  89,  90,  91,  92,  93,  94,  95,  96,  97,\n",
       "        98,  99, 101, 102, 103, 105, 107, 109], dtype=int64)"
      ]
     },
     "execution_count": 8,
     "metadata": {},
     "output_type": "execute_result"
    }
   ],
   "source": [
    "np.sort(train_dataset.loc[:, 'age'].unique())"
   ]
  },
  {
   "cell_type": "markdown",
   "metadata": {},
   "source": [
    "The \"0\" age is likely erroneous, partly because no one can be 0 year old, and also because we can see an upward trend incremented by 1 from 21 (e.g.: 21, 22, 23), meaning that from 0 to 21, there is a big jump in value for no reason. So, rows associated with age \"0\" should be removed. However, let's first check how many percent of data are affected by this."
   ]
  },
  {
   "cell_type": "code",
   "execution_count": 9,
   "metadata": {},
   "outputs": [
    {
     "data": {
      "text/plain": [
       "1"
      ]
     },
     "execution_count": 9,
     "metadata": {},
     "output_type": "execute_result"
    }
   ],
   "source": [
    "(train_dataset.loc[:, 'age'] == 0).sum()"
   ]
  },
  {
   "cell_type": "markdown",
   "metadata": {},
   "source": [
    "The whole dataset has this number of rows:"
   ]
  },
  {
   "cell_type": "code",
   "execution_count": 10,
   "metadata": {},
   "outputs": [
    {
     "data": {
      "text/plain": [
       "150000"
      ]
     },
     "execution_count": 10,
     "metadata": {},
     "output_type": "execute_result"
    }
   ],
   "source": [
    "train_dataset.shape[0]"
   ]
  },
  {
   "cell_type": "markdown",
   "metadata": {},
   "source": [
    "No need for second thought. This case must be filtered out."
   ]
  },
  {
   "cell_type": "code",
   "execution_count": 11,
   "metadata": {},
   "outputs": [],
   "source": [
    "train_dataset = train_dataset[train_dataset.loc[:, 'age'] != 0]"
   ]
  },
  {
   "cell_type": "markdown",
   "metadata": {},
   "source": [
    "* **NumberOfTime30-59DaysPastDueNotWorse**: Number of times borrower has been 30-59 days past due but no worse in the last 2 years. Integer.\n",
    "  + Check: Positive natural numbers, including 0."
   ]
  },
  {
   "cell_type": "code",
   "execution_count": 12,
   "metadata": {},
   "outputs": [
    {
     "data": {
      "text/plain": [
       "array([ 0,  1,  2,  3,  4,  5,  6,  7,  8,  9, 10, 11, 12, 13, 96, 98], dtype=int64)"
      ]
     },
     "execution_count": 12,
     "metadata": {},
     "output_type": "execute_result"
    }
   ],
   "source": [
    "np.sort(train_dataset.loc[:, 'NumberOfTime30-59DaysPastDueNotWorse'].unique())"
   ]
  },
  {
   "cell_type": "markdown",
   "metadata": {},
   "source": [
    "* **DebtRatio**: Monthly debt payments, alimony,living costs divided by monthy gross income. Percentage.\n",
    "  + Check: Positive real numbers from 0 to 1."
   ]
  },
  {
   "cell_type": "code",
   "execution_count": 13,
   "metadata": {},
   "outputs": [
    {
     "data": {
      "text/plain": [
       "array([      0.       ,       0.000026 ,       0.0000369, ...,\n",
       "        307001.       ,  326442.       ,  329664.       ])"
      ]
     },
     "execution_count": 13,
     "metadata": {},
     "output_type": "execute_result"
    }
   ],
   "source": [
    "np.sort(train_dataset.loc[:, 'DebtRatio'].unique())"
   ]
  },
  {
   "cell_type": "markdown",
   "metadata": {},
   "source": [
    "It looks like this issue is similar to the column \"RevolvingUtilizationOfUnsecuredLines\", where the percentage is expected to be within the range of [0,1]. Again, there is no clue in the Dataset description or Kaggle Forum on treating this glitch. So it is kept \"as is\"."
   ]
  },
  {
   "cell_type": "code",
   "execution_count": 14,
   "metadata": {},
   "outputs": [
    {
     "data": {
      "text/plain": [
       "0.23424822832152215"
      ]
     },
     "execution_count": 14,
     "metadata": {},
     "output_type": "execute_result"
    }
   ],
   "source": [
    "# For informational purpose.\n",
    "((train_dataset.loc[:, 'DebtRatio'] > 1).sum() / train_dataset.shape[0])"
   ]
  },
  {
   "cell_type": "markdown",
   "metadata": {},
   "source": [
    "* **MonthlyIncome**: Monthly income. Real.\n",
    "  + Check: Positive real numbers."
   ]
  },
  {
   "cell_type": "code",
   "execution_count": 15,
   "metadata": {},
   "outputs": [
    {
     "data": {
      "text/plain": [
       "array([       0.,        1.,        2., ...,  1794060.,  3008750.,\n",
       "             nan])"
      ]
     },
     "execution_count": 15,
     "metadata": {},
     "output_type": "execute_result"
    }
   ],
   "source": [
    "np.sort(train_dataset.loc[:, 'MonthlyIncome'].unique())"
   ]
  },
  {
   "cell_type": "markdown",
   "metadata": {},
   "source": [
    "Because of having **nan**, let's check how many percents of data there are that have nan in this column:"
   ]
  },
  {
   "cell_type": "code",
   "execution_count": 16,
   "metadata": {},
   "outputs": [
    {
     "data": {
      "text/plain": [
       "0.19820798805325368"
      ]
     },
     "execution_count": 16,
     "metadata": {},
     "output_type": "execute_result"
    }
   ],
   "source": [
    "train_dataset.loc[:, 'MonthlyIncome'].isna().sum() / train_dataset.shape[0]"
   ]
  },
  {
   "cell_type": "markdown",
   "metadata": {},
   "source": [
    "About 20% of data within this column is NaN. Therefore, it cannot just be removed, and must be imputed. There are many methods for data imputation. For example, using Regression Model (Build a Regression model, given the remaining variables. Then, make use of that model to predict the missing values). In this case, a simpler approach is preferred: calculate the mean value within the column, and replace the missing values with that mean value."
   ]
  },
  {
   "cell_type": "code",
   "execution_count": 17,
   "metadata": {},
   "outputs": [
    {
     "data": {
      "text/plain": [
       "0"
      ]
     },
     "execution_count": 17,
     "metadata": {},
     "output_type": "execute_result"
    }
   ],
   "source": [
    "from sklearn.preprocessing import Imputer\n",
    "imp_monthly_income = Imputer(missing_values=np.nan, strategy='mean')\n",
    "non_nan_values = imp_monthly_income.fit_transform(train_dataset.loc[:, ['MonthlyIncome']])\n",
    "train_dataset.loc[:, ['MonthlyIncome']] = non_nan_values\n",
    "# Double check\n",
    "np.isnan(non_nan_values).sum()"
   ]
  },
  {
   "cell_type": "markdown",
   "metadata": {},
   "source": [
    "* **NumberOfOpenCreditLinesAndLoans**: Number of Open loans (installment like car loan or mortgage) and Lines of credit (e.g. credit cards). Integer.\n",
    "  + Check: Positive natural numbers."
   ]
  },
  {
   "cell_type": "code",
   "execution_count": 18,
   "metadata": {},
   "outputs": [
    {
     "data": {
      "text/plain": [
       "array([ 0,  1,  2,  3,  4,  5,  6,  7,  8,  9, 10, 11, 12, 13, 14, 15, 16,\n",
       "       17, 18, 19, 20, 21, 22, 23, 24, 25, 26, 27, 28, 29, 30, 31, 32, 33,\n",
       "       34, 35, 36, 37, 38, 39, 40, 41, 42, 43, 44, 45, 46, 47, 48, 49, 50,\n",
       "       51, 52, 53, 54, 56, 57, 58], dtype=int64)"
      ]
     },
     "execution_count": 18,
     "metadata": {},
     "output_type": "execute_result"
    }
   ],
   "source": [
    "np.sort(train_dataset.loc[:, 'NumberOfOpenCreditLinesAndLoans'].unique())"
   ]
  },
  {
   "cell_type": "markdown",
   "metadata": {},
   "source": [
    "* **NumberOfTimes90DaysLate**: Number of times borrower has been 90 days or more past due.\n",
    "  + Check: Positive natural numbers."
   ]
  },
  {
   "cell_type": "code",
   "execution_count": 19,
   "metadata": {},
   "outputs": [
    {
     "data": {
      "text/plain": [
       "array([ 0,  1,  2,  3,  4,  5,  6,  7,  8,  9, 10, 11, 12, 13, 14, 15, 17,\n",
       "       96, 98], dtype=int64)"
      ]
     },
     "execution_count": 19,
     "metadata": {},
     "output_type": "execute_result"
    }
   ],
   "source": [
    "np.sort(train_dataset.loc[:, 'NumberOfTimes90DaysLate'].unique())"
   ]
  },
  {
   "cell_type": "markdown",
   "metadata": {},
   "source": [
    "* **NumberRealEstateLoansOrLines**: Number of mortgage and real estate loans including home equity lines of credit. Integer.\n",
    "  + Check: Positive natural numbers."
   ]
  },
  {
   "cell_type": "code",
   "execution_count": 20,
   "metadata": {},
   "outputs": [
    {
     "data": {
      "text/plain": [
       "array([ 0,  1,  2,  3,  4,  5,  6,  7,  8,  9, 10, 11, 12, 13, 14, 15, 16,\n",
       "       17, 18, 19, 20, 21, 23, 25, 26, 29, 32, 54], dtype=int64)"
      ]
     },
     "execution_count": 20,
     "metadata": {},
     "output_type": "execute_result"
    }
   ],
   "source": [
    "np.sort(train_dataset.loc[:, 'NumberRealEstateLoansOrLines'].unique())"
   ]
  },
  {
   "cell_type": "markdown",
   "metadata": {},
   "source": [
    "* **NumberOfTime60-89DaysPastDueNotWorse**: Number of times borrower has been 60-89 days past due but no worse in the last 2 years. Integer.\n",
    "  + Check: Positive natural numbers."
   ]
  },
  {
   "cell_type": "code",
   "execution_count": 21,
   "metadata": {},
   "outputs": [
    {
     "data": {
      "text/plain": [
       "array([ 0,  1,  2,  3,  4,  5,  6,  7,  8,  9, 11, 96, 98], dtype=int64)"
      ]
     },
     "execution_count": 21,
     "metadata": {},
     "output_type": "execute_result"
    }
   ],
   "source": [
    "np.sort(train_dataset.loc[:, 'NumberOfTime60-89DaysPastDueNotWorse'].unique())"
   ]
  },
  {
   "cell_type": "markdown",
   "metadata": {},
   "source": [
    "* **NumberOfDependents**: Number of dependents in family excluding themselves (spouse, children etc.). Integer.\n",
    "  + Check: Positive natural numbers."
   ]
  },
  {
   "cell_type": "code",
   "execution_count": 22,
   "metadata": {},
   "outputs": [
    {
     "data": {
      "text/plain": [
       "array([  0.,   1.,   2.,   3.,   4.,   5.,   6.,   7.,   8.,   9.,  10.,\n",
       "        13.,  20.,  nan])"
      ]
     },
     "execution_count": 22,
     "metadata": {},
     "output_type": "execute_result"
    }
   ],
   "source": [
    "np.sort(train_dataset.loc[:, 'NumberOfDependents'].unique())"
   ]
  },
  {
   "cell_type": "code",
   "execution_count": 23,
   "metadata": {},
   "outputs": [
    {
     "data": {
      "text/plain": [
       "0.026160174401162674"
      ]
     },
     "execution_count": 23,
     "metadata": {},
     "output_type": "execute_result"
    }
   ],
   "source": [
    "train_dataset.loc[:, 'NumberOfDependents'].isna().sum() / train_dataset.shape[0]"
   ]
  },
  {
   "cell_type": "markdown",
   "metadata": {},
   "source": [
    "Again, it would be better if the nan values can be replaced with average values."
   ]
  },
  {
   "cell_type": "code",
   "execution_count": 24,
   "metadata": {},
   "outputs": [
    {
     "data": {
      "text/plain": [
       "0"
      ]
     },
     "execution_count": 24,
     "metadata": {},
     "output_type": "execute_result"
    }
   ],
   "source": [
    "imp_number_of_dependent = Imputer(missing_values=np.nan, strategy='mean')\n",
    "non_nan_values = imp_number_of_dependent.fit_transform(train_dataset.loc[:, ['NumberOfDependents']])\n",
    "train_dataset.loc[:, ['NumberOfDependents']] = non_nan_values\n",
    "# Double check\n",
    "np.isnan(non_nan_values).sum()"
   ]
  },
  {
   "cell_type": "markdown",
   "metadata": {},
   "source": [
    "Lastly, the first column (index column) has no contributions to building the model, so it should be removed."
   ]
  },
  {
   "cell_type": "code",
   "execution_count": 25,
   "metadata": {},
   "outputs": [],
   "source": [
    "train_dataset.drop(train_dataset.columns[0], axis=1, inplace=True)"
   ]
  },
  {
   "cell_type": "code",
   "execution_count": 26,
   "metadata": {},
   "outputs": [
    {
     "data": {
      "text/html": [
       "<div>\n",
       "<style scoped>\n",
       "    .dataframe tbody tr th:only-of-type {\n",
       "        vertical-align: middle;\n",
       "    }\n",
       "\n",
       "    .dataframe tbody tr th {\n",
       "        vertical-align: top;\n",
       "    }\n",
       "\n",
       "    .dataframe thead th {\n",
       "        text-align: right;\n",
       "    }\n",
       "</style>\n",
       "<table border=\"1\" class=\"dataframe\">\n",
       "  <thead>\n",
       "    <tr style=\"text-align: right;\">\n",
       "      <th></th>\n",
       "      <th>SeriousDlqin2yrs</th>\n",
       "      <th>RevolvingUtilizationOfUnsecuredLines</th>\n",
       "      <th>age</th>\n",
       "      <th>NumberOfTime30-59DaysPastDueNotWorse</th>\n",
       "      <th>DebtRatio</th>\n",
       "      <th>MonthlyIncome</th>\n",
       "      <th>NumberOfOpenCreditLinesAndLoans</th>\n",
       "      <th>NumberOfTimes90DaysLate</th>\n",
       "      <th>NumberRealEstateLoansOrLines</th>\n",
       "      <th>NumberOfTime60-89DaysPastDueNotWorse</th>\n",
       "      <th>NumberOfDependents</th>\n",
       "    </tr>\n",
       "  </thead>\n",
       "  <tbody>\n",
       "    <tr>\n",
       "      <th>0</th>\n",
       "      <td>1</td>\n",
       "      <td>0.766127</td>\n",
       "      <td>45</td>\n",
       "      <td>2</td>\n",
       "      <td>0.802982</td>\n",
       "      <td>9120.0</td>\n",
       "      <td>13</td>\n",
       "      <td>0</td>\n",
       "      <td>6</td>\n",
       "      <td>0</td>\n",
       "      <td>2.0</td>\n",
       "    </tr>\n",
       "    <tr>\n",
       "      <th>1</th>\n",
       "      <td>0</td>\n",
       "      <td>0.957151</td>\n",
       "      <td>40</td>\n",
       "      <td>0</td>\n",
       "      <td>0.121876</td>\n",
       "      <td>2600.0</td>\n",
       "      <td>4</td>\n",
       "      <td>0</td>\n",
       "      <td>0</td>\n",
       "      <td>0</td>\n",
       "      <td>1.0</td>\n",
       "    </tr>\n",
       "    <tr>\n",
       "      <th>2</th>\n",
       "      <td>0</td>\n",
       "      <td>0.658180</td>\n",
       "      <td>38</td>\n",
       "      <td>1</td>\n",
       "      <td>0.085113</td>\n",
       "      <td>3042.0</td>\n",
       "      <td>2</td>\n",
       "      <td>1</td>\n",
       "      <td>0</td>\n",
       "      <td>0</td>\n",
       "      <td>0.0</td>\n",
       "    </tr>\n",
       "    <tr>\n",
       "      <th>3</th>\n",
       "      <td>0</td>\n",
       "      <td>0.233810</td>\n",
       "      <td>30</td>\n",
       "      <td>0</td>\n",
       "      <td>0.036050</td>\n",
       "      <td>3300.0</td>\n",
       "      <td>5</td>\n",
       "      <td>0</td>\n",
       "      <td>0</td>\n",
       "      <td>0</td>\n",
       "      <td>0.0</td>\n",
       "    </tr>\n",
       "    <tr>\n",
       "      <th>4</th>\n",
       "      <td>0</td>\n",
       "      <td>0.907239</td>\n",
       "      <td>49</td>\n",
       "      <td>1</td>\n",
       "      <td>0.024926</td>\n",
       "      <td>63588.0</td>\n",
       "      <td>7</td>\n",
       "      <td>0</td>\n",
       "      <td>1</td>\n",
       "      <td>0</td>\n",
       "      <td>0.0</td>\n",
       "    </tr>\n",
       "  </tbody>\n",
       "</table>\n",
       "</div>"
      ],
      "text/plain": [
       "   SeriousDlqin2yrs  RevolvingUtilizationOfUnsecuredLines  age  \\\n",
       "0                 1                              0.766127   45   \n",
       "1                 0                              0.957151   40   \n",
       "2                 0                              0.658180   38   \n",
       "3                 0                              0.233810   30   \n",
       "4                 0                              0.907239   49   \n",
       "\n",
       "   NumberOfTime30-59DaysPastDueNotWorse  DebtRatio  MonthlyIncome  \\\n",
       "0                                     2   0.802982         9120.0   \n",
       "1                                     0   0.121876         2600.0   \n",
       "2                                     1   0.085113         3042.0   \n",
       "3                                     0   0.036050         3300.0   \n",
       "4                                     1   0.024926        63588.0   \n",
       "\n",
       "   NumberOfOpenCreditLinesAndLoans  NumberOfTimes90DaysLate  \\\n",
       "0                               13                        0   \n",
       "1                                4                        0   \n",
       "2                                2                        1   \n",
       "3                                5                        0   \n",
       "4                                7                        0   \n",
       "\n",
       "   NumberRealEstateLoansOrLines  NumberOfTime60-89DaysPastDueNotWorse  \\\n",
       "0                             6                                     0   \n",
       "1                             0                                     0   \n",
       "2                             0                                     0   \n",
       "3                             0                                     0   \n",
       "4                             1                                     0   \n",
       "\n",
       "   NumberOfDependents  \n",
       "0                 2.0  \n",
       "1                 1.0  \n",
       "2                 0.0  \n",
       "3                 0.0  \n",
       "4                 0.0  "
      ]
     },
     "execution_count": 26,
     "metadata": {},
     "output_type": "execute_result"
    }
   ],
   "source": [
    "train_dataset.head()"
   ]
  },
  {
   "cell_type": "markdown",
   "metadata": {},
   "source": [
    "Visibly, the target value (dependent variable) is \"SeriousDlqin2yrs\". Remaining independent variables are going to be used to predict/classify the target value."
   ]
  },
  {
   "cell_type": "markdown",
   "metadata": {},
   "source": [
    "---"
   ]
  },
  {
   "cell_type": "markdown",
   "metadata": {},
   "source": [
    "## 3. Data Exploration <a class=\"anchor\" id=\"three\"></a>"
   ]
  },
  {
   "cell_type": "markdown",
   "metadata": {},
   "source": [
    "Some statistics:"
   ]
  },
  {
   "cell_type": "code",
   "execution_count": 27,
   "metadata": {},
   "outputs": [
    {
     "data": {
      "text/plain": [
       "(149999, 11)"
      ]
     },
     "execution_count": 27,
     "metadata": {},
     "output_type": "execute_result"
    }
   ],
   "source": [
    "train_dataset.shape"
   ]
  },
  {
   "cell_type": "code",
   "execution_count": 28,
   "metadata": {},
   "outputs": [
    {
     "data": {
      "text/html": [
       "<div>\n",
       "<style scoped>\n",
       "    .dataframe tbody tr th:only-of-type {\n",
       "        vertical-align: middle;\n",
       "    }\n",
       "\n",
       "    .dataframe tbody tr th {\n",
       "        vertical-align: top;\n",
       "    }\n",
       "\n",
       "    .dataframe thead th {\n",
       "        text-align: right;\n",
       "    }\n",
       "</style>\n",
       "<table border=\"1\" class=\"dataframe\">\n",
       "  <thead>\n",
       "    <tr style=\"text-align: right;\">\n",
       "      <th></th>\n",
       "      <th>SeriousDlqin2yrs</th>\n",
       "      <th>RevolvingUtilizationOfUnsecuredLines</th>\n",
       "      <th>age</th>\n",
       "      <th>NumberOfTime30-59DaysPastDueNotWorse</th>\n",
       "      <th>DebtRatio</th>\n",
       "      <th>MonthlyIncome</th>\n",
       "      <th>NumberOfOpenCreditLinesAndLoans</th>\n",
       "      <th>NumberOfTimes90DaysLate</th>\n",
       "      <th>NumberRealEstateLoansOrLines</th>\n",
       "      <th>NumberOfTime60-89DaysPastDueNotWorse</th>\n",
       "      <th>NumberOfDependents</th>\n",
       "    </tr>\n",
       "  </thead>\n",
       "  <tbody>\n",
       "    <tr>\n",
       "      <th>count</th>\n",
       "      <td>149999.000000</td>\n",
       "      <td>149999.000000</td>\n",
       "      <td>149999.000000</td>\n",
       "      <td>149999.000000</td>\n",
       "      <td>149999.000000</td>\n",
       "      <td>1.499990e+05</td>\n",
       "      <td>149999.000000</td>\n",
       "      <td>149999.000000</td>\n",
       "      <td>149999.000000</td>\n",
       "      <td>149999.000000</td>\n",
       "      <td>149999.000000</td>\n",
       "    </tr>\n",
       "    <tr>\n",
       "      <th>mean</th>\n",
       "      <td>0.066840</td>\n",
       "      <td>6.048472</td>\n",
       "      <td>52.295555</td>\n",
       "      <td>0.421029</td>\n",
       "      <td>353.007426</td>\n",
       "      <td>6.670227e+03</td>\n",
       "      <td>8.452776</td>\n",
       "      <td>0.265975</td>\n",
       "      <td>1.018233</td>\n",
       "      <td>0.240388</td>\n",
       "      <td>0.757214</td>\n",
       "    </tr>\n",
       "    <tr>\n",
       "      <th>std</th>\n",
       "      <td>0.249746</td>\n",
       "      <td>249.756203</td>\n",
       "      <td>14.771298</td>\n",
       "      <td>4.192795</td>\n",
       "      <td>2037.825113</td>\n",
       "      <td>1.288049e+04</td>\n",
       "      <td>5.145964</td>\n",
       "      <td>4.169318</td>\n",
       "      <td>1.129772</td>\n",
       "      <td>4.155193</td>\n",
       "      <td>1.100403</td>\n",
       "    </tr>\n",
       "    <tr>\n",
       "      <th>min</th>\n",
       "      <td>0.000000</td>\n",
       "      <td>0.000000</td>\n",
       "      <td>21.000000</td>\n",
       "      <td>0.000000</td>\n",
       "      <td>0.000000</td>\n",
       "      <td>0.000000e+00</td>\n",
       "      <td>0.000000</td>\n",
       "      <td>0.000000</td>\n",
       "      <td>0.000000</td>\n",
       "      <td>0.000000</td>\n",
       "      <td>0.000000</td>\n",
       "    </tr>\n",
       "    <tr>\n",
       "      <th>25%</th>\n",
       "      <td>0.000000</td>\n",
       "      <td>0.029867</td>\n",
       "      <td>41.000000</td>\n",
       "      <td>0.000000</td>\n",
       "      <td>0.175074</td>\n",
       "      <td>3.903000e+03</td>\n",
       "      <td>5.000000</td>\n",
       "      <td>0.000000</td>\n",
       "      <td>0.000000</td>\n",
       "      <td>0.000000</td>\n",
       "      <td>0.000000</td>\n",
       "    </tr>\n",
       "    <tr>\n",
       "      <th>50%</th>\n",
       "      <td>0.000000</td>\n",
       "      <td>0.154176</td>\n",
       "      <td>52.000000</td>\n",
       "      <td>0.000000</td>\n",
       "      <td>0.366503</td>\n",
       "      <td>6.600000e+03</td>\n",
       "      <td>8.000000</td>\n",
       "      <td>0.000000</td>\n",
       "      <td>1.000000</td>\n",
       "      <td>0.000000</td>\n",
       "      <td>0.000000</td>\n",
       "    </tr>\n",
       "    <tr>\n",
       "      <th>75%</th>\n",
       "      <td>0.000000</td>\n",
       "      <td>0.559044</td>\n",
       "      <td>63.000000</td>\n",
       "      <td>0.000000</td>\n",
       "      <td>0.868257</td>\n",
       "      <td>7.400000e+03</td>\n",
       "      <td>11.000000</td>\n",
       "      <td>0.000000</td>\n",
       "      <td>2.000000</td>\n",
       "      <td>0.000000</td>\n",
       "      <td>1.000000</td>\n",
       "    </tr>\n",
       "    <tr>\n",
       "      <th>max</th>\n",
       "      <td>1.000000</td>\n",
       "      <td>50708.000000</td>\n",
       "      <td>109.000000</td>\n",
       "      <td>98.000000</td>\n",
       "      <td>329664.000000</td>\n",
       "      <td>3.008750e+06</td>\n",
       "      <td>58.000000</td>\n",
       "      <td>98.000000</td>\n",
       "      <td>54.000000</td>\n",
       "      <td>98.000000</td>\n",
       "      <td>20.000000</td>\n",
       "    </tr>\n",
       "  </tbody>\n",
       "</table>\n",
       "</div>"
      ],
      "text/plain": [
       "       SeriousDlqin2yrs  RevolvingUtilizationOfUnsecuredLines            age  \\\n",
       "count     149999.000000                         149999.000000  149999.000000   \n",
       "mean           0.066840                              6.048472      52.295555   \n",
       "std            0.249746                            249.756203      14.771298   \n",
       "min            0.000000                              0.000000      21.000000   \n",
       "25%            0.000000                              0.029867      41.000000   \n",
       "50%            0.000000                              0.154176      52.000000   \n",
       "75%            0.000000                              0.559044      63.000000   \n",
       "max            1.000000                          50708.000000     109.000000   \n",
       "\n",
       "       NumberOfTime30-59DaysPastDueNotWorse      DebtRatio  MonthlyIncome  \\\n",
       "count                         149999.000000  149999.000000   1.499990e+05   \n",
       "mean                               0.421029     353.007426   6.670227e+03   \n",
       "std                                4.192795    2037.825113   1.288049e+04   \n",
       "min                                0.000000       0.000000   0.000000e+00   \n",
       "25%                                0.000000       0.175074   3.903000e+03   \n",
       "50%                                0.000000       0.366503   6.600000e+03   \n",
       "75%                                0.000000       0.868257   7.400000e+03   \n",
       "max                               98.000000  329664.000000   3.008750e+06   \n",
       "\n",
       "       NumberOfOpenCreditLinesAndLoans  NumberOfTimes90DaysLate  \\\n",
       "count                    149999.000000            149999.000000   \n",
       "mean                          8.452776                 0.265975   \n",
       "std                           5.145964                 4.169318   \n",
       "min                           0.000000                 0.000000   \n",
       "25%                           5.000000                 0.000000   \n",
       "50%                           8.000000                 0.000000   \n",
       "75%                          11.000000                 0.000000   \n",
       "max                          58.000000                98.000000   \n",
       "\n",
       "       NumberRealEstateLoansOrLines  NumberOfTime60-89DaysPastDueNotWorse  \\\n",
       "count                 149999.000000                         149999.000000   \n",
       "mean                       1.018233                              0.240388   \n",
       "std                        1.129772                              4.155193   \n",
       "min                        0.000000                              0.000000   \n",
       "25%                        0.000000                              0.000000   \n",
       "50%                        1.000000                              0.000000   \n",
       "75%                        2.000000                              0.000000   \n",
       "max                       54.000000                             98.000000   \n",
       "\n",
       "       NumberOfDependents  \n",
       "count       149999.000000  \n",
       "mean             0.757214  \n",
       "std              1.100403  \n",
       "min              0.000000  \n",
       "25%              0.000000  \n",
       "50%              0.000000  \n",
       "75%              1.000000  \n",
       "max             20.000000  "
      ]
     },
     "execution_count": 28,
     "metadata": {},
     "output_type": "execute_result"
    }
   ],
   "source": [
    "train_dataset.describe()"
   ]
  },
  {
   "cell_type": "markdown",
   "metadata": {},
   "source": [
    "One way to potentially improve the performance of a machine learning model is to have non-correlated features. More features also require more computation and system resources (RAM, CPU, etc.) Let's check the correlation between those features to see if we can remove any of them."
   ]
  },
  {
   "cell_type": "code",
   "execution_count": 29,
   "metadata": {},
   "outputs": [
    {
     "data": {
      "text/plain": [
       "array([[ 1.        , -0.00589891, -0.00131348,  0.00396118,  0.006565  ,\n",
       "        -0.01128081, -0.00106125,  0.00623485, -0.00104784,  0.00153893],\n",
       "       [-0.00589891,  1.        , -0.06299453,  0.02418473,  0.0329842 ,\n",
       "         0.14770035, -0.06100876,  0.03317225, -0.05716322, -0.20808514],\n",
       "       [-0.00131348, -0.06299453,  1.        , -0.00654176, -0.0076355 ,\n",
       "        -0.05531184,  0.98360282, -0.03056541,  0.98700557, -0.00252634],\n",
       "       [ 0.00396118,  0.02418473, -0.00654176,  1.        , -0.00535496,\n",
       "         0.04956478, -0.00831971,  0.12004734, -0.00753317, -0.0382864 ],\n",
       "       [ 0.006565  ,  0.0329842 , -0.0076355 , -0.00535496,  1.        ,\n",
       "         0.0823188 , -0.00948358,  0.11382389, -0.008259  ,  0.05854302],\n",
       "       [-0.01128081,  0.14770035, -0.05531184,  0.04956478,  0.0823188 ,\n",
       "         1.        , -0.07998461,  0.43396279, -0.07107697,  0.06451089],\n",
       "       [-0.00106125, -0.06100876,  0.98360282, -0.00831971, -0.00948358,\n",
       "        -0.07998461,  1.        , -0.04520496,  0.99279618, -0.00957878],\n",
       "       [ 0.00623485,  0.03317225, -0.03056541,  0.12004734,  0.11382389,\n",
       "         0.43396279, -0.04520496,  1.        , -0.0397221 ,  0.123364  ],\n",
       "       [-0.00104784, -0.05716322,  0.98700557, -0.00753317, -0.008259  ,\n",
       "        -0.07107697,  0.99279618, -0.0397221 ,  1.        , -0.01027686],\n",
       "       [ 0.00153893, -0.20808514, -0.00252634, -0.0382864 ,  0.05854302,\n",
       "         0.06451089, -0.00957878,  0.123364  , -0.01027686,  1.        ]])"
      ]
     },
     "execution_count": 29,
     "metadata": {},
     "output_type": "execute_result"
    }
   ],
   "source": [
    "corr = train_dataset.loc[:, train_dataset.columns[1:]].corr().as_matrix()\n",
    "corr"
   ]
  },
  {
   "cell_type": "code",
   "execution_count": 30,
   "metadata": {},
   "outputs": [],
   "source": [
    "def plot_corr(df,size=10):\n",
    "    '''Function plots a graphical correlation matrix for each pair of columns in the dataframe.\n",
    "\n",
    "    Input:\n",
    "        df: pandas DataFrame\n",
    "        size: vertical and horizontal size of the plot'''\n",
    "\n",
    "    corr = df.corr()\n",
    "    fig, ax = plt.subplots(figsize=(size, size))\n",
    "    ax.matshow(corr)\n",
    "    plt.xticks(range(len(corr.columns)), corr.columns, rotation='vertical');\n",
    "    plt.yticks(range(len(corr.columns)), corr.columns);"
   ]
  },
  {
   "cell_type": "code",
   "execution_count": 31,
   "metadata": {
    "scrolled": false
   },
   "outputs": [
    {
     "data": {
      "image/png": "[encoded data removed]",
      "text/plain": [
       "<matplotlib.figure.Figure at 0xc39b2134e0>"
      ]
     },
     "metadata": {},
     "output_type": "display_data"
    }
   ],
   "source": [
    "%matplotlib inline\n",
    "plot_corr(train_dataset.loc[:, train_dataset.columns[1:]], 6)"
   ]
  },
  {
   "cell_type": "markdown",
   "metadata": {},
   "source": [
    "High correlation can be seen between those columns: \"NumberOfTimes90DaysLate\", \"NumberOfTime30-59DaysPastDueNotWorse\" and \"NumberOfTime60-89DaysPastDueNotWorse\". Intuitively, by reading the feature names, one can easily understand why they are highly correlated. There is still a slight chance that even those having high correlation can turn out to be very different. See [5] for \"**Anscombe's quartet**\". Let's draw some plots to feel the data better."
   ]
  },
  {
   "cell_type": "code",
   "execution_count": 32,
   "metadata": {},
   "outputs": [
    {
     "data": {
      "image/png": "[encoded data removed]",
      "text/plain": [
       "<matplotlib.figure.Figure at 0xc39dd3da90>"
      ]
     },
     "metadata": {},
     "output_type": "display_data"
    }
   ],
   "source": [
    "%matplotlib inline\n",
    "temp_data_frame = train_dataset.loc[:, ['NumberOfTimes90DaysLate', 'NumberOfTime30-59DaysPastDueNotWorse', 'NumberOfTime60-89DaysPastDueNotWorse']]\n",
    "\n",
    "def drawSubplot(x, y):\n",
    "    m, b = np.polyfit(x, y, 1)\n",
    "    plt.plot(x, y, '.')\n",
    "    plt.plot(x, m*x + b, '-')\n",
    "    plt.xlabel(x.name, fontsize=10)\n",
    "    plt.ylabel(y.name, fontsize=10)\n",
    "\n",
    "fig, ax = plt.subplots(nrows=1, ncols=3, figsize=(15,6))\n",
    "\n",
    "# NumberOfTimes90DaysLate vs. NumberOfTime30-59DaysPastDueNotWorse\n",
    "plt.subplot(1, 3, 1)\n",
    "drawSubplot(temp_data_frame.iloc[:, 0], temp_data_frame.iloc[:, 1])\n",
    "\n",
    "# NumberOfTimes90DaysLate vs. NumberOfTime60-89DaysPastDueNotWorse\n",
    "plt.subplot(1, 3, 2)\n",
    "drawSubplot(temp_data_frame.iloc[:, 0], temp_data_frame.iloc[:, 2])\n",
    "\n",
    "# NumberOfTime30-59DaysPastDueNotWorse vs. NumberOfTime60-89DaysPastDueNotWorse\n",
    "plt.subplot(1, 3, 3)\n",
    "drawSubplot(temp_data_frame.iloc[:, 1], temp_data_frame.iloc[:, 2])\n",
    "\n",
    "plt.show()"
   ]
  },
  {
   "cell_type": "markdown",
   "metadata": {},
   "source": [
    "Although the points are not perfectly collinear (lying on a single line), it is understandable that they have high correlation as when a feature has a small value, the other feature also has an approximately small value. The all 3 features seemingly contribute equally to the to-be-built model."
   ]
  },
  {
   "cell_type": "markdown",
   "metadata": {},
   "source": [
    "In short, given the limited description on features, we choose to keep \"NumberOfTimes90DaysLate\" and remove the other two."
   ]
  },
  {
   "cell_type": "code",
   "execution_count": 33,
   "metadata": {},
   "outputs": [],
   "source": [
    "train_dataset.drop(['NumberOfTime30-59DaysPastDueNotWorse', 'NumberOfTime60-89DaysPastDueNotWorse'], axis=1, inplace=True)"
   ]
  },
  {
   "cell_type": "markdown",
   "metadata": {},
   "source": [
    "The **clean** data is ready to feed into machine learning algorithms."
   ]
  },
  {
   "cell_type": "code",
   "execution_count": 34,
   "metadata": {},
   "outputs": [
    {
     "data": {
      "text/html": [
       "<div>\n",
       "<style scoped>\n",
       "    .dataframe tbody tr th:only-of-type {\n",
       "        vertical-align: middle;\n",
       "    }\n",
       "\n",
       "    .dataframe tbody tr th {\n",
       "        vertical-align: top;\n",
       "    }\n",
       "\n",
       "    .dataframe thead th {\n",
       "        text-align: right;\n",
       "    }\n",
       "</style>\n",
       "<table border=\"1\" class=\"dataframe\">\n",
       "  <thead>\n",
       "    <tr style=\"text-align: right;\">\n",
       "      <th></th>\n",
       "      <th>SeriousDlqin2yrs</th>\n",
       "      <th>RevolvingUtilizationOfUnsecuredLines</th>\n",
       "      <th>age</th>\n",
       "      <th>DebtRatio</th>\n",
       "      <th>MonthlyIncome</th>\n",
       "      <th>NumberOfOpenCreditLinesAndLoans</th>\n",
       "      <th>NumberOfTimes90DaysLate</th>\n",
       "      <th>NumberRealEstateLoansOrLines</th>\n",
       "      <th>NumberOfDependents</th>\n",
       "    </tr>\n",
       "  </thead>\n",
       "  <tbody>\n",
       "    <tr>\n",
       "      <th>0</th>\n",
       "      <td>1</td>\n",
       "      <td>0.766127</td>\n",
       "      <td>45</td>\n",
       "      <td>0.802982</td>\n",
       "      <td>9120.0</td>\n",
       "      <td>13</td>\n",
       "      <td>0</td>\n",
       "      <td>6</td>\n",
       "      <td>2.0</td>\n",
       "    </tr>\n",
       "    <tr>\n",
       "      <th>1</th>\n",
       "      <td>0</td>\n",
       "      <td>0.957151</td>\n",
       "      <td>40</td>\n",
       "      <td>0.121876</td>\n",
       "      <td>2600.0</td>\n",
       "      <td>4</td>\n",
       "      <td>0</td>\n",
       "      <td>0</td>\n",
       "      <td>1.0</td>\n",
       "    </tr>\n",
       "    <tr>\n",
       "      <th>2</th>\n",
       "      <td>0</td>\n",
       "      <td>0.658180</td>\n",
       "      <td>38</td>\n",
       "      <td>0.085113</td>\n",
       "      <td>3042.0</td>\n",
       "      <td>2</td>\n",
       "      <td>1</td>\n",
       "      <td>0</td>\n",
       "      <td>0.0</td>\n",
       "    </tr>\n",
       "    <tr>\n",
       "      <th>3</th>\n",
       "      <td>0</td>\n",
       "      <td>0.233810</td>\n",
       "      <td>30</td>\n",
       "      <td>0.036050</td>\n",
       "      <td>3300.0</td>\n",
       "      <td>5</td>\n",
       "      <td>0</td>\n",
       "      <td>0</td>\n",
       "      <td>0.0</td>\n",
       "    </tr>\n",
       "    <tr>\n",
       "      <th>4</th>\n",
       "      <td>0</td>\n",
       "      <td>0.907239</td>\n",
       "      <td>49</td>\n",
       "      <td>0.024926</td>\n",
       "      <td>63588.0</td>\n",
       "      <td>7</td>\n",
       "      <td>0</td>\n",
       "      <td>1</td>\n",
       "      <td>0.0</td>\n",
       "    </tr>\n",
       "  </tbody>\n",
       "</table>\n",
       "</div>"
      ],
      "text/plain": [
       "   SeriousDlqin2yrs  RevolvingUtilizationOfUnsecuredLines  age  DebtRatio  \\\n",
       "0                 1                              0.766127   45   0.802982   \n",
       "1                 0                              0.957151   40   0.121876   \n",
       "2                 0                              0.658180   38   0.085113   \n",
       "3                 0                              0.233810   30   0.036050   \n",
       "4                 0                              0.907239   49   0.024926   \n",
       "\n",
       "   MonthlyIncome  NumberOfOpenCreditLinesAndLoans  NumberOfTimes90DaysLate  \\\n",
       "0         9120.0                               13                        0   \n",
       "1         2600.0                                4                        0   \n",
       "2         3042.0                                2                        1   \n",
       "3         3300.0                                5                        0   \n",
       "4        63588.0                                7                        0   \n",
       "\n",
       "   NumberRealEstateLoansOrLines  NumberOfDependents  \n",
       "0                             6                 2.0  \n",
       "1                             0                 1.0  \n",
       "2                             0                 0.0  \n",
       "3                             0                 0.0  \n",
       "4                             1                 0.0  "
      ]
     },
     "execution_count": 34,
     "metadata": {},
     "output_type": "execute_result"
    }
   ],
   "source": [
    "train_dataset.head()"
   ]
  },
  {
   "cell_type": "code",
   "execution_count": 35,
   "metadata": {},
   "outputs": [
    {
     "data": {
      "text/plain": [
       "SeriousDlqin2yrs                          int64\n",
       "RevolvingUtilizationOfUnsecuredLines    float64\n",
       "age                                       int64\n",
       "DebtRatio                               float64\n",
       "MonthlyIncome                           float64\n",
       "NumberOfOpenCreditLinesAndLoans           int64\n",
       "NumberOfTimes90DaysLate                   int64\n",
       "NumberRealEstateLoansOrLines              int64\n",
       "NumberOfDependents                      float64\n",
       "dtype: object"
      ]
     },
     "execution_count": 35,
     "metadata": {},
     "output_type": "execute_result"
    }
   ],
   "source": [
    "train_dataset.dtypes"
   ]
  },
  {
   "cell_type": "markdown",
   "metadata": {},
   "source": [
    "One question may rise up, concerning \"age\". **At what age** do people tend to suffer from financial distress? If grouping simply by age, the resultant trend may be fluctuating because of overfitting this dataset. It makes more senses to divide ages into groups, i.e.: [20-30), [30-40), etc."
   ]
  },
  {
   "cell_type": "code",
   "execution_count": 36,
   "metadata": {},
   "outputs": [],
   "source": [
    "def groupAge(x):\n",
    "    if (x>= 20 and x < 30):\n",
    "        return \"[20-30)\"\n",
    "    elif  (x>= 30 and x < 40):\n",
    "        return \"[30-40)\"\n",
    "    elif  (x>=40 and x < 50):\n",
    "        return \"[40-50)\"\n",
    "    elif  (x>=50 and x < 60):\n",
    "        return \"[50-60)\"\n",
    "    elif  (x>=60 and x < 70):\n",
    "        return \"[60-70)\"\n",
    "    elif  (x>=70 and x<80):\n",
    "        return \"[70-80)\"\n",
    "    elif  (x>=80 and x < 90):\n",
    "        return \"[80-90)\"\n",
    "    elif  (x>=90 and x < 100):\n",
    "        return \"[90-100)\"\n",
    "    elif  (x>=100 and x< 110):\n",
    "        return \"[100-110)\"\n",
    "    else:\n",
    "        return \"unknown\"\n",
    "\n",
    "group_age = train_dataset.loc[:, 'age'].apply(lambda x: groupAge(x))\n",
    "\n",
    "# Create a temporary dataframe.\n",
    "df_age_and_distress = train_dataset.loc[:, ['SeriousDlqin2yrs']]\n",
    "# Add new column.\n",
    "df_age_and_distress.loc[:, 'group_age'] = group_age"
   ]
  },
  {
   "cell_type": "code",
   "execution_count": 37,
   "metadata": {},
   "outputs": [],
   "source": [
    "financial_distress_by_age_group = df_age_and_distress.groupby('group_age')"
   ]
  },
  {
   "cell_type": "code",
   "execution_count": 38,
   "metadata": {},
   "outputs": [
    {
     "data": {
      "text/html": [
       "<div>\n",
       "<style scoped>\n",
       "    .dataframe tbody tr th:only-of-type {\n",
       "        vertical-align: middle;\n",
       "    }\n",
       "\n",
       "    .dataframe tbody tr th {\n",
       "        vertical-align: top;\n",
       "    }\n",
       "\n",
       "    .dataframe thead th {\n",
       "        text-align: right;\n",
       "    }\n",
       "</style>\n",
       "<table border=\"1\" class=\"dataframe\">\n",
       "  <thead>\n",
       "    <tr style=\"text-align: right;\">\n",
       "      <th></th>\n",
       "      <th>SeriousDlqin2yrs</th>\n",
       "    </tr>\n",
       "    <tr>\n",
       "      <th>group_age</th>\n",
       "      <th></th>\n",
       "    </tr>\n",
       "  </thead>\n",
       "  <tbody>\n",
       "    <tr>\n",
       "      <th>[100-110)</th>\n",
       "      <td>7.692308</td>\n",
       "    </tr>\n",
       "    <tr>\n",
       "      <th>[20-30)</th>\n",
       "      <td>11.734694</td>\n",
       "    </tr>\n",
       "    <tr>\n",
       "      <th>[30-40)</th>\n",
       "      <td>10.072036</td>\n",
       "    </tr>\n",
       "    <tr>\n",
       "      <th>[40-50)</th>\n",
       "      <td>8.371877</td>\n",
       "    </tr>\n",
       "    <tr>\n",
       "      <th>[50-60)</th>\n",
       "      <td>6.453075</td>\n",
       "    </tr>\n",
       "    <tr>\n",
       "      <th>[60-70)</th>\n",
       "      <td>3.632590</td>\n",
       "    </tr>\n",
       "    <tr>\n",
       "      <th>[70-80)</th>\n",
       "      <td>2.433645</td>\n",
       "    </tr>\n",
       "    <tr>\n",
       "      <th>[80-90)</th>\n",
       "      <td>2.048780</td>\n",
       "    </tr>\n",
       "    <tr>\n",
       "      <th>[90-100)</th>\n",
       "      <td>1.928783</td>\n",
       "    </tr>\n",
       "  </tbody>\n",
       "</table>\n",
       "</div>"
      ],
      "text/plain": [
       "           SeriousDlqin2yrs\n",
       "group_age                  \n",
       "[100-110)          7.692308\n",
       "[20-30)           11.734694\n",
       "[30-40)           10.072036\n",
       "[40-50)            8.371877\n",
       "[50-60)            6.453075\n",
       "[60-70)            3.632590\n",
       "[70-80)            2.433645\n",
       "[80-90)            2.048780\n",
       "[90-100)           1.928783"
      ]
     },
     "execution_count": 38,
     "metadata": {},
     "output_type": "execute_result"
    }
   ],
   "source": [
    "(financial_distress_by_age_group.sum() / financial_distress_by_age_group.count()) * 100"
   ]
  },
  {
   "cell_type": "markdown",
   "metadata": {},
   "source": [
    "Some comments:\n",
    "* The age groups where people have most and second highest probabilty of financial distress: [20-30), [30-40).\n",
    "* This trend is reduced overtime.\n",
    "* A surprising finding: when people reach 100 and above, their probability of having financial distress actually increases!"
   ]
  },
  {
   "cell_type": "markdown",
   "metadata": {},
   "source": [
    "---"
   ]
  },
  {
   "cell_type": "markdown",
   "metadata": {},
   "source": [
    "## 4. Model Building <a class=\"anchor\" id=\"four\"></a>"
   ]
  },
  {
   "cell_type": "markdown",
   "metadata": {},
   "source": [
    "The most optimal machine learning algorithm for a specific problem might not be figured out without trial-and-error. One algorithm is good for this problem and/or this dataset can turn out to be less ideal for other problem and/or other datasets. Linear Regression is good if the decision boundary is linearly separable. Decision Tree, in the other hand, assumes the boundary is parallel to axes (\"features\")."
   ]
  },
  {
   "cell_type": "markdown",
   "metadata": {},
   "source": [
    "In reality, in order to achieve high performance, one should focus on, first and foremost, data quality and quantity. In general, the more data, the better. Secondly, using domain knowledge to engineer promising features for the specific business problem. After that, one reasonably uses a variety of Machine Learning algorithms to build models. Each algorithm involves many hyper-parameters to be tuned. Carrying out a lot of trial-and-error; eventually, an optimal algorithm (with its optimal hyper-parameters) begins to surface."
   ]
  },
  {
   "cell_type": "markdown",
   "metadata": {},
   "source": [
    "In this case, **Random Forest (RF)** will be employed to tackle our prediction problem. RF is well-known to give decent performance. It can run **in parallel effectively** (each tree is built separately). RF is also less proned to over-fitting."
   ]
  },
  {
   "cell_type": "code",
   "execution_count": 39,
   "metadata": {},
   "outputs": [
    {
     "name": "stdout",
     "output_type": "stream",
     "text": [
      "Fitting 5 folds for each of 24 candidates, totalling 120 fits\n",
      "[CV] criterion=gini, max_depth=4, max_features=3, n_estimators=300 ...\n",
      "[CV]  criterion=gini, max_depth=4, max_features=3, n_estimators=300, score=0.9345688477050765, total=   9.3s\n",
      "[CV] criterion=gini, max_depth=4, max_features=3, n_estimators=300 ...\n"
     ]
    },
    {
     "name": "stderr",
     "output_type": "stream",
     "text": [
      "[Parallel(n_jobs=1)]: Done   1 out of   1 | elapsed:   10.1s remaining:    0.0s\n"
     ]
    },
    {
     "name": "stdout",
     "output_type": "stream",
     "text": [
      "[CV]  criterion=gini, max_depth=4, max_features=3, n_estimators=300, score=0.9341666666666667, total=   8.6s\n",
      "[CV] criterion=gini, max_depth=4, max_features=3, n_estimators=300 ...\n"
     ]
    },
    {
     "name": "stderr",
     "output_type": "stream",
     "text": [
      "[Parallel(n_jobs=1)]: Done   2 out of   2 | elapsed:   19.4s remaining:    0.0s\n"
     ]
    },
    {
     "name": "stdout",
     "output_type": "stream",
     "text": [
      "[CV]  criterion=gini, max_depth=4, max_features=3, n_estimators=300, score=0.9349333333333333, total=   8.7s\n",
      "[CV] criterion=gini, max_depth=4, max_features=3, n_estimators=300 ...\n"
     ]
    },
    {
     "name": "stderr",
     "output_type": "stream",
     "text": [
      "[Parallel(n_jobs=1)]: Done   3 out of   3 | elapsed:   28.9s remaining:    0.0s\n"
     ]
    },
    {
     "name": "stdout",
     "output_type": "stream",
     "text": [
      "[CV]  criterion=gini, max_depth=4, max_features=3, n_estimators=300, score=0.9348644954831827, total=   8.5s\n",
      "[CV] criterion=gini, max_depth=4, max_features=3, n_estimators=300 ...\n"
     ]
    },
    {
     "name": "stderr",
     "output_type": "stream",
     "text": [
      "[Parallel(n_jobs=1)]: Done   4 out of   4 | elapsed:   38.3s remaining:    0.0s\n"
     ]
    },
    {
     "name": "stdout",
     "output_type": "stream",
     "text": [
      "[CV]  criterion=gini, max_depth=4, max_features=3, n_estimators=300, score=0.9339977999266642, total=   8.7s\n",
      "[CV] criterion=gini, max_depth=4, max_features=3, n_estimators=500 ...\n"
     ]
    },
    {
     "name": "stderr",
     "output_type": "stream",
     "text": [
      "[Parallel(n_jobs=1)]: Done   5 out of   5 | elapsed:   47.6s remaining:    0.0s\n"
     ]
    },
    {
     "name": "stdout",
     "output_type": "stream",
     "text": [
      "[CV]  criterion=gini, max_depth=4, max_features=3, n_estimators=500, score=0.9343021899270024, total=  14.1s\n",
      "[CV] criterion=gini, max_depth=4, max_features=3, n_estimators=500 ...\n"
     ]
    },
    {
     "name": "stderr",
     "output_type": "stream",
     "text": [
      "[Parallel(n_jobs=1)]: Done   6 out of   6 | elapsed:  1.0min remaining:    0.0s\n"
     ]
    },
    {
     "name": "stdout",
     "output_type": "stream",
     "text": [
      "[CV]  criterion=gini, max_depth=4, max_features=3, n_estimators=500, score=0.9339, total=  13.8s\n",
      "[CV] criterion=gini, max_depth=4, max_features=3, n_estimators=500 ...\n"
     ]
    },
    {
     "name": "stderr",
     "output_type": "stream",
     "text": [
      "[Parallel(n_jobs=1)]: Done   7 out of   7 | elapsed:  1.3min remaining:    0.0s\n"
     ]
    },
    {
     "name": "stdout",
     "output_type": "stream",
     "text": [
      "[CV]  criterion=gini, max_depth=4, max_features=3, n_estimators=500, score=0.9345666666666667, total=  13.9s\n",
      "[CV] criterion=gini, max_depth=4, max_features=3, n_estimators=500 ...\n"
     ]
    },
    {
     "name": "stderr",
     "output_type": "stream",
     "text": [
      "[Parallel(n_jobs=1)]: Done   8 out of   8 | elapsed:  1.5min remaining:    0.0s\n"
     ]
    },
    {
     "name": "stdout",
     "output_type": "stream",
     "text": [
      "[CV]  criterion=gini, max_depth=4, max_features=3, n_estimators=500, score=0.9347978265942198, total=  13.8s\n",
      "[CV] criterion=gini, max_depth=4, max_features=3, n_estimators=500 ...\n"
     ]
    },
    {
     "name": "stderr",
     "output_type": "stream",
     "text": [
      "[Parallel(n_jobs=1)]: Done   9 out of   9 | elapsed:  1.8min remaining:    0.0s\n"
     ]
    },
    {
     "name": "stdout",
     "output_type": "stream",
     "text": [
      "[CV]  criterion=gini, max_depth=4, max_features=3, n_estimators=500, score=0.9341311377045901, total=  13.8s\n",
      "[CV] criterion=gini, max_depth=4, max_features=6, n_estimators=300 ...\n",
      "[CV]  criterion=gini, max_depth=4, max_features=6, n_estimators=300, score=0.9349688343721876, total=  12.1s\n",
      "[CV] criterion=gini, max_depth=4, max_features=6, n_estimators=300 ...\n",
      "[CV]  criterion=gini, max_depth=4, max_features=6, n_estimators=300, score=0.9360666666666667, total=  12.1s\n",
      "[CV] criterion=gini, max_depth=4, max_features=6, n_estimators=300 ...\n",
      "[CV]  criterion=gini, max_depth=4, max_features=6, n_estimators=300, score=0.9352666666666667, total=  12.2s\n",
      "[CV] criterion=gini, max_depth=4, max_features=6, n_estimators=300 ...\n",
      "[CV]  criterion=gini, max_depth=4, max_features=6, n_estimators=300, score=0.9369312310410347, total=  12.1s\n",
      "[CV] criterion=gini, max_depth=4, max_features=6, n_estimators=300 ...\n",
      "[CV]  criterion=gini, max_depth=4, max_features=6, n_estimators=300, score=0.9365978865962199, total=  12.2s\n",
      "[CV] criterion=gini, max_depth=4, max_features=6, n_estimators=500 ...\n",
      "[CV]  criterion=gini, max_depth=4, max_features=6, n_estimators=500, score=0.9349355021499284, total=  20.0s\n",
      "[CV] criterion=gini, max_depth=4, max_features=6, n_estimators=500 ...\n",
      "[CV]  criterion=gini, max_depth=4, max_features=6, n_estimators=500, score=0.9360666666666667, total=  20.0s\n",
      "[CV] criterion=gini, max_depth=4, max_features=6, n_estimators=500 ...\n",
      "[CV]  criterion=gini, max_depth=4, max_features=6, n_estimators=500, score=0.9352666666666667, total=  20.1s\n",
      "[CV] criterion=gini, max_depth=4, max_features=6, n_estimators=500 ...\n",
      "[CV]  criterion=gini, max_depth=4, max_features=6, n_estimators=500, score=0.9369312310410347, total=  20.0s\n",
      "[CV] criterion=gini, max_depth=4, max_features=6, n_estimators=500 ...\n",
      "[CV]  criterion=gini, max_depth=4, max_features=6, n_estimators=500, score=0.9367312243741458, total=  20.0s\n",
      "[CV] criterion=gini, max_depth=6, max_features=3, n_estimators=300 ...\n",
      "[CV]  criterion=gini, max_depth=6, max_features=3, n_estimators=300, score=0.9356688110396321, total=  10.8s\n",
      "[CV] criterion=gini, max_depth=6, max_features=3, n_estimators=300 ...\n",
      "[CV]  criterion=gini, max_depth=6, max_features=3, n_estimators=300, score=0.9358, total=  11.0s\n",
      "[CV] criterion=gini, max_depth=6, max_features=3, n_estimators=300 ...\n",
      "[CV]  criterion=gini, max_depth=6, max_features=3, n_estimators=300, score=0.9359, total=  11.3s\n",
      "[CV] criterion=gini, max_depth=6, max_features=3, n_estimators=300 ...\n",
      "[CV]  criterion=gini, max_depth=6, max_features=3, n_estimators=300, score=0.9367312243741458, total=  10.8s\n",
      "[CV] criterion=gini, max_depth=6, max_features=3, n_estimators=300 ...\n",
      "[CV]  criterion=gini, max_depth=6, max_features=3, n_estimators=300, score=0.9369978999299977, total=  10.8s\n",
      "[CV] criterion=gini, max_depth=6, max_features=3, n_estimators=500 ...\n",
      "[CV]  criterion=gini, max_depth=6, max_features=3, n_estimators=500, score=0.935535482150595, total=  17.9s\n",
      "[CV] criterion=gini, max_depth=6, max_features=3, n_estimators=500 ...\n",
      "[CV]  criterion=gini, max_depth=6, max_features=3, n_estimators=500, score=0.9357333333333333, total=  18.0s\n",
      "[CV] criterion=gini, max_depth=6, max_features=3, n_estimators=500 ...\n",
      "[CV]  criterion=gini, max_depth=6, max_features=3, n_estimators=500, score=0.9358666666666666, total=  18.0s\n",
      "[CV] criterion=gini, max_depth=6, max_features=3, n_estimators=500 ...\n",
      "[CV]  criterion=gini, max_depth=6, max_features=3, n_estimators=500, score=0.9364978832627754, total=  18.2s\n",
      "[CV] criterion=gini, max_depth=6, max_features=3, n_estimators=500 ...\n",
      "[CV]  criterion=gini, max_depth=6, max_features=3, n_estimators=500, score=0.9367645588186273, total=  18.1s\n",
      "[CV] criterion=gini, max_depth=6, max_features=6, n_estimators=300 ...\n",
      "[CV]  criterion=gini, max_depth=6, max_features=6, n_estimators=300, score=0.9352354921502617, total=  16.7s\n",
      "[CV] criterion=gini, max_depth=6, max_features=6, n_estimators=300 ...\n",
      "[CV]  criterion=gini, max_depth=6, max_features=6, n_estimators=300, score=0.9358, total=  16.5s\n",
      "[CV] criterion=gini, max_depth=6, max_features=6, n_estimators=300 ...\n",
      "[CV]  criterion=gini, max_depth=6, max_features=6, n_estimators=300, score=0.9359333333333333, total=  16.6s\n",
      "[CV] criterion=gini, max_depth=6, max_features=6, n_estimators=300 ...\n",
      "[CV]  criterion=gini, max_depth=6, max_features=6, n_estimators=300, score=0.9369312310410347, total=  16.6s\n",
      "[CV] criterion=gini, max_depth=6, max_features=6, n_estimators=300 ...\n",
      "[CV]  criterion=gini, max_depth=6, max_features=6, n_estimators=300, score=0.9369312310410347, total=  16.6s\n",
      "[CV] criterion=gini, max_depth=6, max_features=6, n_estimators=500 ...\n",
      "[CV]  criterion=gini, max_depth=6, max_features=6, n_estimators=500, score=0.9353021565947802, total=  27.5s\n",
      "[CV] criterion=gini, max_depth=6, max_features=6, n_estimators=500 ...\n",
      "[CV]  criterion=gini, max_depth=6, max_features=6, n_estimators=500, score=0.9356, total=  27.4s\n",
      "[CV] criterion=gini, max_depth=6, max_features=6, n_estimators=500 ...\n",
      "[CV]  criterion=gini, max_depth=6, max_features=6, n_estimators=500, score=0.9360333333333334, total=  27.2s\n",
      "[CV] criterion=gini, max_depth=6, max_features=6, n_estimators=500 ...\n",
      "[CV]  criterion=gini, max_depth=6, max_features=6, n_estimators=500, score=0.9370312343744791, total=  27.2s\n",
      "[CV] criterion=gini, max_depth=6, max_features=6, n_estimators=500 ...\n",
      "[CV]  criterion=gini, max_depth=6, max_features=6, n_estimators=500, score=0.9368312277075903, total=  27.6s\n",
      "[CV] criterion=gini, max_depth=8, max_features=3, n_estimators=300 ...\n",
      "[CV]  criterion=gini, max_depth=8, max_features=3, n_estimators=300, score=0.9359021365954469, total=  13.2s\n",
      "[CV] criterion=gini, max_depth=8, max_features=3, n_estimators=300 ...\n",
      "[CV]  criterion=gini, max_depth=8, max_features=3, n_estimators=300, score=0.9355333333333333, total=  13.1s\n",
      "[CV] criterion=gini, max_depth=8, max_features=3, n_estimators=300 ...\n",
      "[CV]  criterion=gini, max_depth=8, max_features=3, n_estimators=300, score=0.9360333333333334, total=  13.2s\n",
      "[CV] criterion=gini, max_depth=8, max_features=3, n_estimators=300 ...\n",
      "[CV]  criterion=gini, max_depth=8, max_features=3, n_estimators=300, score=0.9372645754858495, total=  13.1s\n",
      "[CV] criterion=gini, max_depth=8, max_features=3, n_estimators=300 ...\n",
      "[CV]  criterion=gini, max_depth=8, max_features=3, n_estimators=300, score=0.9366312210407014, total=  13.1s\n",
      "[CV] criterion=gini, max_depth=8, max_features=3, n_estimators=500 ...\n",
      "[CV]  criterion=gini, max_depth=8, max_features=3, n_estimators=500, score=0.935802139928669, total=  21.8s\n",
      "[CV] criterion=gini, max_depth=8, max_features=3, n_estimators=500 ...\n",
      "[CV]  criterion=gini, max_depth=8, max_features=3, n_estimators=500, score=0.9356333333333333, total=  21.8s\n",
      "[CV] criterion=gini, max_depth=8, max_features=3, n_estimators=500 ...\n",
      "[CV]  criterion=gini, max_depth=8, max_features=3, n_estimators=500, score=0.9359333333333333, total=  21.8s\n",
      "[CV] criterion=gini, max_depth=8, max_features=3, n_estimators=500 ...\n",
      "[CV]  criterion=gini, max_depth=8, max_features=3, n_estimators=500, score=0.937231241041368, total=  21.6s\n",
      "[CV] criterion=gini, max_depth=8, max_features=3, n_estimators=500 ...\n",
      "[CV]  criterion=gini, max_depth=8, max_features=3, n_estimators=500, score=0.9365312177072569, total=  21.7s\n",
      "[CV] criterion=gini, max_depth=8, max_features=6, n_estimators=300 ...\n",
      "[CV]  criterion=gini, max_depth=8, max_features=6, n_estimators=300, score=0.9351354954834838, total=  20.4s\n",
      "[CV] criterion=gini, max_depth=8, max_features=6, n_estimators=300 ...\n",
      "[CV]  criterion=gini, max_depth=8, max_features=6, n_estimators=300, score=0.9356666666666666, total=  20.6s\n",
      "[CV] criterion=gini, max_depth=8, max_features=6, n_estimators=300 ...\n",
      "[CV]  criterion=gini, max_depth=8, max_features=6, n_estimators=300, score=0.9360333333333334, total=  20.3s\n",
      "[CV] criterion=gini, max_depth=8, max_features=6, n_estimators=300 ...\n",
      "[CV]  criterion=gini, max_depth=8, max_features=6, n_estimators=300, score=0.9368645621520717, total=  20.4s\n",
      "[CV] criterion=gini, max_depth=8, max_features=6, n_estimators=300 ...\n",
      "[CV]  criterion=gini, max_depth=8, max_features=6, n_estimators=300, score=0.9367645588186273, total=  20.5s\n",
      "[CV] criterion=gini, max_depth=8, max_features=6, n_estimators=500 ...\n"
     ]
    },
    {
     "name": "stdout",
     "output_type": "stream",
     "text": [
      "[CV]  criterion=gini, max_depth=8, max_features=6, n_estimators=500, score=0.9350688310389653, total=  33.9s\n",
      "[CV] criterion=gini, max_depth=8, max_features=6, n_estimators=500 ...\n",
      "[CV]  criterion=gini, max_depth=8, max_features=6, n_estimators=500, score=0.9357666666666666, total=  34.3s\n",
      "[CV] criterion=gini, max_depth=8, max_features=6, n_estimators=500 ...\n",
      "[CV]  criterion=gini, max_depth=8, max_features=6, n_estimators=500, score=0.9358666666666666, total=  34.1s\n",
      "[CV] criterion=gini, max_depth=8, max_features=6, n_estimators=500 ...\n",
      "[CV]  criterion=gini, max_depth=8, max_features=6, n_estimators=500, score=0.9367978932631088, total=  34.1s\n",
      "[CV] criterion=gini, max_depth=8, max_features=6, n_estimators=500 ...\n",
      "[CV]  criterion=gini, max_depth=8, max_features=6, n_estimators=500, score=0.9368645621520717, total=  33.9s\n",
      "[CV] criterion=entropy, max_depth=4, max_features=3, n_estimators=300 \n",
      "[CV]  criterion=entropy, max_depth=4, max_features=3, n_estimators=300, score=0.9342355254824839, total=   9.7s\n",
      "[CV] criterion=entropy, max_depth=4, max_features=3, n_estimators=300 \n",
      "[CV]  criterion=entropy, max_depth=4, max_features=3, n_estimators=300, score=0.934, total=   9.6s\n",
      "[CV] criterion=entropy, max_depth=4, max_features=3, n_estimators=300 \n",
      "[CV]  criterion=entropy, max_depth=4, max_features=3, n_estimators=300, score=0.9346, total=   9.7s\n",
      "[CV] criterion=entropy, max_depth=4, max_features=3, n_estimators=300 \n",
      "[CV]  criterion=entropy, max_depth=4, max_features=3, n_estimators=300, score=0.9345978199273309, total=   9.6s\n",
      "[CV] criterion=entropy, max_depth=4, max_features=3, n_estimators=300 \n",
      "[CV]  criterion=entropy, max_depth=4, max_features=3, n_estimators=300, score=0.9339311310377013, total=   9.6s\n",
      "[CV] criterion=entropy, max_depth=4, max_features=3, n_estimators=500 \n",
      "[CV]  criterion=entropy, max_depth=4, max_features=3, n_estimators=500, score=0.933868871037632, total=  15.7s\n",
      "[CV] criterion=entropy, max_depth=4, max_features=3, n_estimators=500 \n",
      "[CV]  criterion=entropy, max_depth=4, max_features=3, n_estimators=500, score=0.9338666666666666, total=  15.9s\n",
      "[CV] criterion=entropy, max_depth=4, max_features=3, n_estimators=500 \n",
      "[CV]  criterion=entropy, max_depth=4, max_features=3, n_estimators=500, score=0.9345666666666667, total=  15.7s\n",
      "[CV] criterion=entropy, max_depth=4, max_features=3, n_estimators=500 \n",
      "[CV]  criterion=entropy, max_depth=4, max_features=3, n_estimators=500, score=0.9344978165938864, total=  16.2s\n",
      "[CV] criterion=entropy, max_depth=4, max_features=3, n_estimators=500 \n",
      "[CV]  criterion=entropy, max_depth=4, max_features=3, n_estimators=500, score=0.9338644621487383, total=  15.7s\n",
      "[CV] criterion=entropy, max_depth=4, max_features=6, n_estimators=300 \n",
      "[CV]  criterion=entropy, max_depth=4, max_features=6, n_estimators=300, score=0.9348355054831505, total=  14.6s\n",
      "[CV] criterion=entropy, max_depth=4, max_features=6, n_estimators=300 \n",
      "[CV]  criterion=entropy, max_depth=4, max_features=6, n_estimators=300, score=0.9362333333333334, total=  14.7s\n",
      "[CV] criterion=entropy, max_depth=4, max_features=6, n_estimators=300 \n",
      "[CV]  criterion=entropy, max_depth=4, max_features=6, n_estimators=300, score=0.9355, total=  14.9s\n",
      "[CV] criterion=entropy, max_depth=4, max_features=6, n_estimators=300 \n",
      "[CV]  criterion=entropy, max_depth=4, max_features=6, n_estimators=300, score=0.9367978932631088, total=  14.7s\n",
      "[CV] criterion=entropy, max_depth=4, max_features=6, n_estimators=300 \n",
      "[CV]  criterion=entropy, max_depth=4, max_features=6, n_estimators=300, score=0.9366645554851828, total=  14.5s\n",
      "[CV] criterion=entropy, max_depth=4, max_features=6, n_estimators=500 \n",
      "[CV]  criterion=entropy, max_depth=4, max_features=6, n_estimators=500, score=0.9347355088163728, total=  24.3s\n",
      "[CV] criterion=entropy, max_depth=4, max_features=6, n_estimators=500 \n",
      "[CV]  criterion=entropy, max_depth=4, max_features=6, n_estimators=500, score=0.9362666666666667, total=  24.3s\n",
      "[CV] criterion=entropy, max_depth=4, max_features=6, n_estimators=500 \n",
      "[CV]  criterion=entropy, max_depth=4, max_features=6, n_estimators=500, score=0.9353333333333333, total=  24.1s\n",
      "[CV] criterion=entropy, max_depth=4, max_features=6, n_estimators=500 \n",
      "[CV]  criterion=entropy, max_depth=4, max_features=6, n_estimators=500, score=0.9368978965965532, total=  24.1s\n",
      "[CV] criterion=entropy, max_depth=4, max_features=6, n_estimators=500 \n",
      "[CV]  criterion=entropy, max_depth=4, max_features=6, n_estimators=500, score=0.9367978932631088, total=  24.4s\n",
      "[CV] criterion=entropy, max_depth=6, max_features=3, n_estimators=300 \n",
      "[CV]  criterion=entropy, max_depth=6, max_features=3, n_estimators=300, score=0.9354354854838172, total=  12.6s\n",
      "[CV] criterion=entropy, max_depth=6, max_features=3, n_estimators=300 \n",
      "[CV]  criterion=entropy, max_depth=6, max_features=3, n_estimators=300, score=0.9356666666666666, total=  12.8s\n",
      "[CV] criterion=entropy, max_depth=6, max_features=3, n_estimators=300 \n",
      "[CV]  criterion=entropy, max_depth=6, max_features=3, n_estimators=300, score=0.9358666666666666, total=  12.7s\n",
      "[CV] criterion=entropy, max_depth=6, max_features=3, n_estimators=300 \n",
      "[CV]  criterion=entropy, max_depth=6, max_features=3, n_estimators=300, score=0.9365978865962199, total=  12.7s\n",
      "[CV] criterion=entropy, max_depth=6, max_features=3, n_estimators=300 \n",
      "[CV]  criterion=entropy, max_depth=6, max_features=3, n_estimators=300, score=0.9367978932631088, total=  12.5s\n",
      "[CV] criterion=entropy, max_depth=6, max_features=3, n_estimators=500 \n",
      "[CV]  criterion=entropy, max_depth=6, max_features=3, n_estimators=500, score=0.9353021565947802, total=  21.0s\n",
      "[CV] criterion=entropy, max_depth=6, max_features=3, n_estimators=500 \n",
      "[CV]  criterion=entropy, max_depth=6, max_features=3, n_estimators=500, score=0.9356, total=  20.8s\n",
      "[CV] criterion=entropy, max_depth=6, max_features=3, n_estimators=500 \n",
      "[CV]  criterion=entropy, max_depth=6, max_features=3, n_estimators=500, score=0.9357666666666666, total=  20.9s\n",
      "[CV] criterion=entropy, max_depth=6, max_features=3, n_estimators=500 \n",
      "[CV]  criterion=entropy, max_depth=6, max_features=3, n_estimators=500, score=0.9362645421514051, total=  20.8s\n",
      "[CV] criterion=entropy, max_depth=6, max_features=3, n_estimators=500 \n",
      "[CV]  criterion=entropy, max_depth=6, max_features=3, n_estimators=500, score=0.9366978899296643, total=  20.8s\n",
      "[CV] criterion=entropy, max_depth=6, max_features=6, n_estimators=300 \n",
      "[CV]  criterion=entropy, max_depth=6, max_features=6, n_estimators=300, score=0.9353021565947802, total=  20.3s\n",
      "[CV] criterion=entropy, max_depth=6, max_features=6, n_estimators=300 \n",
      "[CV]  criterion=entropy, max_depth=6, max_features=6, n_estimators=300, score=0.9354333333333333, total=  20.2s\n",
      "[CV] criterion=entropy, max_depth=6, max_features=6, n_estimators=300 \n",
      "[CV]  criterion=entropy, max_depth=6, max_features=6, n_estimators=300, score=0.9358, total=  20.2s\n",
      "[CV] criterion=entropy, max_depth=6, max_features=6, n_estimators=300 \n",
      "[CV]  criterion=entropy, max_depth=6, max_features=6, n_estimators=300, score=0.9370645688189606, total=  20.2s\n",
      "[CV] criterion=entropy, max_depth=6, max_features=6, n_estimators=300 \n",
      "[CV]  criterion=entropy, max_depth=6, max_features=6, n_estimators=300, score=0.9366978899296643, total=  20.2s\n",
      "[CV] criterion=entropy, max_depth=6, max_features=6, n_estimators=500 \n",
      "[CV]  criterion=entropy, max_depth=6, max_features=6, n_estimators=500, score=0.9351354954834838, total=  33.5s\n",
      "[CV] criterion=entropy, max_depth=6, max_features=6, n_estimators=500 \n",
      "[CV]  criterion=entropy, max_depth=6, max_features=6, n_estimators=500, score=0.9354666666666667, total=  33.6s\n",
      "[CV] criterion=entropy, max_depth=6, max_features=6, n_estimators=500 \n",
      "[CV]  criterion=entropy, max_depth=6, max_features=6, n_estimators=500, score=0.9357333333333333, total=  33.9s\n",
      "[CV] criterion=entropy, max_depth=6, max_features=6, n_estimators=500 \n",
      "[CV]  criterion=entropy, max_depth=6, max_features=6, n_estimators=500, score=0.9369978999299977, total=  33.5s\n",
      "[CV] criterion=entropy, max_depth=6, max_features=6, n_estimators=500 \n",
      "[CV]  criterion=entropy, max_depth=6, max_features=6, n_estimators=500, score=0.9367978932631088, total=  33.4s\n",
      "[CV] criterion=entropy, max_depth=8, max_features=3, n_estimators=300 \n",
      "[CV]  criterion=entropy, max_depth=8, max_features=3, n_estimators=300, score=0.935802139928669, total=  15.4s\n",
      "[CV] criterion=entropy, max_depth=8, max_features=3, n_estimators=300 \n"
     ]
    },
    {
     "name": "stdout",
     "output_type": "stream",
     "text": [
      "[CV]  criterion=entropy, max_depth=8, max_features=3, n_estimators=300, score=0.9354, total=  15.4s\n",
      "[CV] criterion=entropy, max_depth=8, max_features=3, n_estimators=300 \n",
      "[CV]  criterion=entropy, max_depth=8, max_features=3, n_estimators=300, score=0.9357, total=  15.5s\n",
      "[CV] criterion=entropy, max_depth=8, max_features=3, n_estimators=300 \n",
      "[CV]  criterion=entropy, max_depth=8, max_features=3, n_estimators=300, score=0.9369978999299977, total=  15.4s\n",
      "[CV] criterion=entropy, max_depth=8, max_features=3, n_estimators=300 \n",
      "[CV]  criterion=entropy, max_depth=8, max_features=3, n_estimators=300, score=0.9365645521517384, total=  15.5s\n",
      "[CV] criterion=entropy, max_depth=8, max_features=3, n_estimators=500 \n",
      "[CV]  criterion=entropy, max_depth=8, max_features=3, n_estimators=500, score=0.935802139928669, total=  25.5s\n",
      "[CV] criterion=entropy, max_depth=8, max_features=3, n_estimators=500 \n",
      "[CV]  criterion=entropy, max_depth=8, max_features=3, n_estimators=500, score=0.9355, total=  25.6s\n",
      "[CV] criterion=entropy, max_depth=8, max_features=3, n_estimators=500 \n",
      "[CV]  criterion=entropy, max_depth=8, max_features=3, n_estimators=500, score=0.9357, total=  25.5s\n",
      "[CV] criterion=entropy, max_depth=8, max_features=3, n_estimators=500 \n",
      "[CV]  criterion=entropy, max_depth=8, max_features=3, n_estimators=500, score=0.9370312343744791, total=  25.6s\n",
      "[CV] criterion=entropy, max_depth=8, max_features=3, n_estimators=500 \n",
      "[CV]  criterion=entropy, max_depth=8, max_features=3, n_estimators=500, score=0.9365645521517384, total=  25.6s\n",
      "[CV] criterion=entropy, max_depth=8, max_features=6, n_estimators=300 \n",
      "[CV]  criterion=entropy, max_depth=8, max_features=6, n_estimators=300, score=0.9354354854838172, total=  25.5s\n",
      "[CV] criterion=entropy, max_depth=8, max_features=6, n_estimators=300 \n",
      "[CV]  criterion=entropy, max_depth=8, max_features=6, n_estimators=300, score=0.9353666666666667, total=  25.4s\n",
      "[CV] criterion=entropy, max_depth=8, max_features=6, n_estimators=300 \n",
      "[CV]  criterion=entropy, max_depth=8, max_features=6, n_estimators=300, score=0.9359333333333333, total=  25.9s\n",
      "[CV] criterion=entropy, max_depth=8, max_features=6, n_estimators=300 \n",
      "[CV]  criterion=entropy, max_depth=8, max_features=6, n_estimators=300, score=0.9367312243741458, total=  25.6s\n",
      "[CV] criterion=entropy, max_depth=8, max_features=6, n_estimators=300 \n",
      "[CV]  criterion=entropy, max_depth=8, max_features=6, n_estimators=300, score=0.9368645621520717, total=  25.4s\n",
      "[CV] criterion=entropy, max_depth=8, max_features=6, n_estimators=500 \n",
      "[CV]  criterion=entropy, max_depth=8, max_features=6, n_estimators=500, score=0.9352354921502617, total=  42.2s\n",
      "[CV] criterion=entropy, max_depth=8, max_features=6, n_estimators=500 \n",
      "[CV]  criterion=entropy, max_depth=8, max_features=6, n_estimators=500, score=0.9352666666666667, total=  42.2s\n",
      "[CV] criterion=entropy, max_depth=8, max_features=6, n_estimators=500 \n",
      "[CV]  criterion=entropy, max_depth=8, max_features=6, n_estimators=500, score=0.9361666666666667, total=  42.0s\n",
      "[CV] criterion=entropy, max_depth=8, max_features=6, n_estimators=500 \n",
      "[CV]  criterion=entropy, max_depth=8, max_features=6, n_estimators=500, score=0.9367645588186273, total=  43.1s\n",
      "[CV] criterion=entropy, max_depth=8, max_features=6, n_estimators=500 \n",
      "[CV]  criterion=entropy, max_depth=8, max_features=6, n_estimators=500, score=0.9366978899296643, total=  47.4s\n"
     ]
    },
    {
     "name": "stderr",
     "output_type": "stream",
     "text": [
      "[Parallel(n_jobs=1)]: Done 120 out of 120 | elapsed: 41.9min finished\n"
     ]
    },
    {
     "name": "stdout",
     "output_type": "stream",
     "text": [
      "{'criterion': 'gini', 'max_depth': 8, 'max_features': 3, 'n_estimators': 300}\n"
     ]
    }
   ],
   "source": [
    "rfc = RandomForestClassifier(n_jobs=-1, oob_score = True, random_state=123)\n",
    "\n",
    "\"\"\"\n",
    "See [7] for all tunable hyper-parameters.\n",
    "See [8] for recommended hyper-parameters.\n",
    "\n",
    "n_estimators: The number of trees in the forest => The more, the better, but more resource usage.\n",
    "max_features: The number of features to consider when looking for the best split.\n",
    "criterion: The function to measure the quality of a split.\n",
    "max_depth: The maximum depth of the tree => The deeper, the more overfitting (capture noise!)\n",
    "\"\"\"\n",
    "param_grid = { \n",
    "           \"n_estimators\" : [300, 500],\n",
    "           \"max_features\" : [3, 6],\n",
    "           \"criterion\" : [\"gini\", \"entropy\"],\n",
    "           \"max_depth\": [4, 6, 8]}\n",
    "\n",
    "CV_rfc = GridSearchCV(estimator=rfc, param_grid=param_grid, cv = 5, verbose=10)\n",
    "\n",
    "CV_rfc.fit(train_dataset.iloc[:, 1:], train_dataset.iloc[:, 0])\n",
    "print(CV_rfc.best_params_)"
   ]
  },
  {
   "cell_type": "markdown",
   "metadata": {},
   "source": [
    "Given the found optimal hyper-parameters {'criterion': 'gini', 'max_depth': 8, 'max_features': 3, 'n_estimators': 300}, we start building the final RF model."
   ]
  },
  {
   "cell_type": "code",
   "execution_count": 40,
   "metadata": {},
   "outputs": [
    {
     "data": {
      "text/plain": [
       "RandomForestClassifier(bootstrap=True, class_weight=None, criterion='gini',\n",
       "            max_depth=8, max_features=3, max_leaf_nodes=None,\n",
       "            min_impurity_decrease=0.0, min_impurity_split=None,\n",
       "            min_samples_leaf=1, min_samples_split=2,\n",
       "            min_weight_fraction_leaf=0.0, n_estimators=300, n_jobs=-1,\n",
       "            oob_score=True, random_state=123, verbose=0, warm_start=False)"
      ]
     },
     "execution_count": 40,
     "metadata": {},
     "output_type": "execute_result"
    }
   ],
   "source": [
    "rf_final = RandomForestClassifier(n_jobs=-1, criterion='gini', max_depth=8, max_features=3, n_estimators=300, oob_score=True, random_state=123)\n",
    "rf_final.fit(train_dataset.iloc[:, 1:], train_dataset.iloc[:, 0])"
   ]
  },
  {
   "cell_type": "markdown",
   "metadata": {},
   "source": [
    "This RF model can be used to predict the target value in the training dataset. However, one should expect that the accuracy will be **optimistically high** as the model **learned through the training dataset**!"
   ]
  },
  {
   "cell_type": "code",
   "execution_count": 41,
   "metadata": {},
   "outputs": [],
   "source": [
    "preds = rf_final.predict(train_dataset.iloc[:, 1:])"
   ]
  },
  {
   "cell_type": "markdown",
   "metadata": {},
   "source": [
    "Confusion matrix:"
   ]
  },
  {
   "cell_type": "code",
   "execution_count": 49,
   "metadata": {},
   "outputs": [
    {
     "data": {
      "text/html": [
       "<div>\n",
       "<style scoped>\n",
       "    .dataframe tbody tr th:only-of-type {\n",
       "        vertical-align: middle;\n",
       "    }\n",
       "\n",
       "    .dataframe tbody tr th {\n",
       "        vertical-align: top;\n",
       "    }\n",
       "\n",
       "    .dataframe thead th {\n",
       "        text-align: right;\n",
       "    }\n",
       "</style>\n",
       "<table border=\"1\" class=\"dataframe\">\n",
       "  <thead>\n",
       "    <tr style=\"text-align: right;\">\n",
       "      <th>Actual</th>\n",
       "      <th>0</th>\n",
       "      <th>1</th>\n",
       "    </tr>\n",
       "    <tr>\n",
       "      <th>Predicted</th>\n",
       "      <th></th>\n",
       "      <th></th>\n",
       "    </tr>\n",
       "  </thead>\n",
       "  <tbody>\n",
       "    <tr>\n",
       "      <th>0</th>\n",
       "      <td>139311</td>\n",
       "      <td>8428</td>\n",
       "    </tr>\n",
       "    <tr>\n",
       "      <th>1</th>\n",
       "      <td>662</td>\n",
       "      <td>1598</td>\n",
       "    </tr>\n",
       "  </tbody>\n",
       "</table>\n",
       "</div>"
      ],
      "text/plain": [
       "Actual          0     1\n",
       "Predicted              \n",
       "0          139311  8428\n",
       "1             662  1598"
      ]
     },
     "execution_count": 49,
     "metadata": {},
     "output_type": "execute_result"
    }
   ],
   "source": [
    "pd.crosstab(index=preds, columns=train_dataset.iloc[:, 0], rownames=['Predicted'], colnames=['Actual'])"
   ]
  },
  {
   "cell_type": "markdown",
   "metadata": {},
   "source": [
    "The accruracy is: ~93.94%! This accuracy is **not representative** for the RF model despite that this model is the final one, and will be used against the test set. The **appropriate accuracy of the model upon the training set** should be acquired from Cross Validation, specifically from the GridSearchCV in our case.\n",
    "\n",
    "It is also worrying that the classifier misclassified 8428 people, who **will suffer financial distress**, as \"non-distressable\", five times bigger than correct 1598 number. To the bank, this result is not appealing.\n",
    "\n",
    "Mitigation:\n",
    "\n",
    "* Improve the accuracy by trying more hyper-parameters.  \n",
    "* Adjust decision threshold by using `predict_prob()`."
   ]
  },
  {
   "cell_type": "code",
   "execution_count": 43,
   "metadata": {},
   "outputs": [
    {
     "name": "stdout",
     "output_type": "stream",
     "text": [
      "0.936272908486\n"
     ]
    }
   ],
   "source": [
    "# Mean cross-validated score of the best_estimator\n",
    "print(CV_rfc.best_score_)"
   ]
  },
  {
   "cell_type": "markdown",
   "metadata": {},
   "source": [
    "It is worth noting that by guessing all people as \"non-distressable\" within the training dataset, we easily have this accuracy:"
   ]
  },
  {
   "cell_type": "code",
   "execution_count": 44,
   "metadata": {},
   "outputs": [
    {
     "data": {
      "text/plain": [
       "0.93315955439702936"
      ]
     },
     "execution_count": 44,
     "metadata": {},
     "output_type": "execute_result"
    }
   ],
   "source": [
    "(train_dataset.loc[:, 'SeriousDlqin2yrs'].count() - train_dataset.loc[:, 'SeriousDlqin2yrs'].sum()) / train_dataset.loc[:, 'SeriousDlqin2yrs'].count()"
   ]
  },
  {
   "cell_type": "markdown",
   "metadata": {},
   "source": [
    "It means that our model's performance is **only marginally** better than weight-based guessing."
   ]
  },
  {
   "cell_type": "markdown",
   "metadata": {},
   "source": [
    "And what are the **best predictors**?"
   ]
  },
  {
   "cell_type": "code",
   "execution_count": 45,
   "metadata": {},
   "outputs": [
    {
     "data": {
      "text/html": [
       "<div>\n",
       "<style scoped>\n",
       "    .dataframe tbody tr th:only-of-type {\n",
       "        vertical-align: middle;\n",
       "    }\n",
       "\n",
       "    .dataframe tbody tr th {\n",
       "        vertical-align: top;\n",
       "    }\n",
       "\n",
       "    .dataframe thead th {\n",
       "        text-align: right;\n",
       "    }\n",
       "</style>\n",
       "<table border=\"1\" class=\"dataframe\">\n",
       "  <thead>\n",
       "    <tr style=\"text-align: right;\">\n",
       "      <th></th>\n",
       "      <th>Feature</th>\n",
       "      <th>Importance</th>\n",
       "    </tr>\n",
       "  </thead>\n",
       "  <tbody>\n",
       "    <tr>\n",
       "      <th>5</th>\n",
       "      <td>NumberOfTimes90DaysLate</td>\n",
       "      <td>0.509716</td>\n",
       "    </tr>\n",
       "    <tr>\n",
       "      <th>0</th>\n",
       "      <td>RevolvingUtilizationOfUnsecuredLines</td>\n",
       "      <td>0.308455</td>\n",
       "    </tr>\n",
       "    <tr>\n",
       "      <th>1</th>\n",
       "      <td>age</td>\n",
       "      <td>0.046986</td>\n",
       "    </tr>\n",
       "    <tr>\n",
       "      <th>2</th>\n",
       "      <td>DebtRatio</td>\n",
       "      <td>0.041487</td>\n",
       "    </tr>\n",
       "    <tr>\n",
       "      <th>4</th>\n",
       "      <td>NumberOfOpenCreditLinesAndLoans</td>\n",
       "      <td>0.033857</td>\n",
       "    </tr>\n",
       "    <tr>\n",
       "      <th>3</th>\n",
       "      <td>MonthlyIncome</td>\n",
       "      <td>0.031604</td>\n",
       "    </tr>\n",
       "    <tr>\n",
       "      <th>6</th>\n",
       "      <td>NumberRealEstateLoansOrLines</td>\n",
       "      <td>0.018179</td>\n",
       "    </tr>\n",
       "    <tr>\n",
       "      <th>7</th>\n",
       "      <td>NumberOfDependents</td>\n",
       "      <td>0.009715</td>\n",
       "    </tr>\n",
       "  </tbody>\n",
       "</table>\n",
       "</div>"
      ],
      "text/plain": [
       "                                Feature  Importance\n",
       "5               NumberOfTimes90DaysLate    0.509716\n",
       "0  RevolvingUtilizationOfUnsecuredLines    0.308455\n",
       "1                                   age    0.046986\n",
       "2                             DebtRatio    0.041487\n",
       "4       NumberOfOpenCreditLinesAndLoans    0.033857\n",
       "3                         MonthlyIncome    0.031604\n",
       "6          NumberRealEstateLoansOrLines    0.018179\n",
       "7                    NumberOfDependents    0.009715"
      ]
     },
     "execution_count": 45,
     "metadata": {},
     "output_type": "execute_result"
    }
   ],
   "source": [
    "feature_importance_df = pd.DataFrame({'Feature': train_dataset.columns[1:], 'Importance': rf_final.feature_importances_})\n",
    "feature_importance_df.sort_values('Importance', ascending=False)"
   ]
  },
  {
   "cell_type": "markdown",
   "metadata": {},
   "source": [
    "---"
   ]
  },
  {
   "cell_type": "markdown",
   "metadata": {},
   "source": [
    "## 5. Validation <a class=\"anchor\" id=\"five\"></a>"
   ]
  },
  {
   "cell_type": "markdown",
   "metadata": {},
   "source": [
    "The original dataset is already split into train/test. \"cs-training.csv\" for training, which has been used above. \"cs-test.csv\" for testing. Before validation, the test data must also be cleaned in the same way the training data passed through. That is,\n",
    "\n",
    "* Remove first index column.\n",
    "* Remove 'NumberOfTime30-59DaysPastDueNotWorse' and 'NumberOfTime60-89DaysPastDueNotWorse'.\n",
    "* Impute NaN in 'MonthlyIncome' and 'NumberOfDependents' **using the Imputers created**."
   ]
  },
  {
   "cell_type": "markdown",
   "metadata": {},
   "source": [
    "However, in the test set, there is no label for \"SeriousDlqin2yrs\". So, we cannot measure the accuracy of the RF model upon the test set. Normally, this accuracy is the **reported** accuracy. If both numbers are close to each other, the generalization goal is achieved."
   ]
  },
  {
   "cell_type": "markdown",
   "metadata": {},
   "source": [
    "Note: The dataset \"GiveMeSomeCredit\" is given as a contest in Kaggle. Labels in test set, thus, are hidden."
   ]
  },
  {
   "cell_type": "markdown",
   "metadata": {},
   "source": [
    "In order to benchmark the performance of each machine learning algorithm (given their best hyperparameters), AUROC (Area Under the curve of the Receiver Operating Characteristic) is used. Even though we have only used RF so far, draw the ROC and calculate AUC anyway. See Future Works.\n",
    "\n",
    "Note: The **reported** model's performance should be measured with test set. Unfortunately, **we do not have labels for test set. So we use training set instead**."
   ]
  },
  {
   "cell_type": "code",
   "execution_count": 46,
   "metadata": {},
   "outputs": [],
   "source": [
    "probas = rf_final.predict_proba(train_dataset.iloc[:, 1:])\n",
    "fpr, tpr, thresholds = roc_curve(train_dataset.iloc[:, 0], probas[:, 1])\n",
    "roc_auc = auc(fpr, tpr)"
   ]
  },
  {
   "cell_type": "markdown",
   "metadata": {},
   "source": [
    "AUC (AUROC):"
   ]
  },
  {
   "cell_type": "code",
   "execution_count": 47,
   "metadata": {},
   "outputs": [
    {
     "data": {
      "text/plain": [
       "0.85286929905459574"
      ]
     },
     "execution_count": 47,
     "metadata": {},
     "output_type": "execute_result"
    }
   ],
   "source": [
    "roc_auc"
   ]
  },
  {
   "cell_type": "markdown",
   "metadata": {},
   "source": [
    "Given AUROC = 0.85, the used classifier (RF and its optimal hyperparameters) is categorized as \"good\". See [11]."
   ]
  },
  {
   "cell_type": "markdown",
   "metadata": {},
   "source": [
    "ROC:"
   ]
  },
  {
   "cell_type": "code",
   "execution_count": 48,
   "metadata": {},
   "outputs": [
    {
     "data": {
      "image/png": "[encoded data removed]",
      "text/plain": [
       "<matplotlib.figure.Figure at 0xc39e11f588>"
      ]
     },
     "metadata": {},
     "output_type": "display_data"
    }
   ],
   "source": [
    "%matplotlib inline\n",
    "plt.title('Receiver Operating Characteristic')\n",
    "plt.plot(fpr, tpr, 'b', label='AUC = %0.2f'% roc_auc)\n",
    "plt.legend(loc='lower right')\n",
    "plt.plot([0,1],[0,1],'r--')\n",
    "plt.xlim([-0.1,1.2])\n",
    "plt.ylim([-0.1,1.2])\n",
    "plt.ylabel('True Positive Rate')\n",
    "plt.xlabel('False Positive Rate')\n",
    "plt.show()"
   ]
  },
  {
   "cell_type": "markdown",
   "metadata": {},
   "source": [
    "---"
   ]
  },
  {
   "cell_type": "markdown",
   "metadata": {},
   "source": [
    "## 6. Summary <a class=\"anchor\" id=\"six\"></a>"
   ]
  },
  {
   "cell_type": "markdown",
   "metadata": {},
   "source": [
    "The business challenge of GiveMeSomeCredit (Kaggle) is to predict if a person will have financial distress in the future. Thus, if a yes, the bank should not give a loan to that person as they will not be able to pay back, making a loss for the bank. Originally, the dataset has 10 features. There are 3 features that are highly correlated; so we removed two. The machine learning algorithm used to solve this prediction problem is Random Forest, which is well-known to be decent in terms of performance."
   ]
  },
  {
   "cell_type": "markdown",
   "metadata": {},
   "source": [
    "Instead of separating the training dataset into \"train/validation\", we used Cross Validation (5 folds) to better estimate the model performance, given a set of hyper-parameters. GridSearchCV was used to seek optimal parameters. Although Random Forest has many tunable parameters, we focus on most common ones (`n_estimators`, `max_features`, `criterion`, `max_depth`)."
   ]
  },
  {
   "cell_type": "markdown",
   "metadata": {},
   "source": [
    "The accuracy of the built RF model:\n",
    "* For training set (5-Folds CV): 93.6%\n",
    "* For testing set: labels not available offline."
   ]
  },
  {
   "cell_type": "markdown",
   "metadata": {},
   "source": [
    "---"
   ]
  },
  {
   "cell_type": "markdown",
   "metadata": {},
   "source": [
    "## 7. Future Works <a class=\"anchor\" id=\"seven\"></a>"
   ]
  },
  {
   "cell_type": "markdown",
   "metadata": {},
   "source": [
    "* GridSearchCV with more parameters for the `param_grid`.\n",
    "  + It is suggested that `n_estimators` should be {500, 1000}.\n",
    "  + Experiment with `min_samples_leaf` to reduce over-fitting.\n",
    "  + Experiment with `max_depth` (deeper) because trees in RF should be fully grown. See [10]. This also improves accuracy.\n",
    "* Try XGBoost (Gradient Boosting Tree) as it is popular within Kaggle Community. (See [9])\n",
    "  + The draw AUC for XGBoost (Gradient Boosting Tree), compare it to RF."
   ]
  },
  {
   "cell_type": "markdown",
   "metadata": {},
   "source": [
    "---"
   ]
  },
  {
   "cell_type": "markdown",
   "metadata": {},
   "source": [
    "## References <a class=\"anchor\" id=\"references\"></a>"
   ]
  },
  {
   "cell_type": "markdown",
   "metadata": {},
   "source": [
    "[1] https://www.kaggle.com/c/GiveMeSomeCredit"
   ]
  },
  {
   "cell_type": "markdown",
   "metadata": {},
   "source": [
    "[2] https://www.kaggle.com/c/GiveMeSomeCredit/discussion/918"
   ]
  },
  {
   "cell_type": "markdown",
   "metadata": {},
   "source": [
    "[3] https://www.kaggle.com/c/GiveMeSomeCredit/discussion/874"
   ]
  },
  {
   "cell_type": "markdown",
   "metadata": {},
   "source": [
    "[4] https://en.wikipedia.org/wiki/Oldest_people"
   ]
  },
  {
   "cell_type": "markdown",
   "metadata": {},
   "source": [
    "[5] https://en.wikipedia.org/wiki/Anscombe%27s_quartet"
   ]
  },
  {
   "cell_type": "markdown",
   "metadata": {},
   "source": [
    "[6] https://en.wikipedia.org/wiki/No_free_lunch_theorem"
   ]
  },
  {
   "cell_type": "markdown",
   "metadata": {},
   "source": [
    "[7] http://scikit-learn.org/stable/modules/generated/sklearn.ensemble.RandomForestClassifier.html"
   ]
  },
  {
   "cell_type": "markdown",
   "metadata": {},
   "source": [
    "[8] https://stackoverflow.com/questions/36107820/how-to-tune-parameters-in-random-forest-using-scikit-learn"
   ]
  },
  {
   "cell_type": "markdown",
   "metadata": {},
   "source": [
    "[9] https://en.wikipedia.org/wiki/Xgboost"
   ]
  },
  {
   "cell_type": "markdown",
   "metadata": {},
   "source": [
    "[10] https://stats.stackexchange.com/questions/173390/gradient-boosting-tree-vs-random-forest"
   ]
  },
  {
   "cell_type": "markdown",
   "metadata": {},
   "source": [
    "[11] https://acutecaretesting.org/en/articles/roc-curves-what-are-they-and-how-are-they-used"
   ]
  },
  {
   "cell_type": "markdown",
   "metadata": {},
   "source": [
    "---"
   ]
  },
  {
   "cell_type": "markdown",
   "metadata": {},
   "source": [
    "## Appendix"
   ]
  },
  {
   "cell_type": "markdown",
   "metadata": {},
   "source": [
    "* My computer's resource usage when GridSearchCV is running. Note that we used `n_jobs=-1` to enable Python to exploit all CPU cores available.\n",
    "\n",
    "![CPU](CPU.png)"
   ]
  }
 ],
 "metadata": {
  "kernelspec": {
   "display_name": "Python 3",
   "language": "python",
   "name": "python3"
  },
  "language_info": {
   "codemirror_mode": {
    "name": "ipython",
    "version": 3
   },
   "file_extension": ".py",
   "mimetype": "text/x-python",
   "name": "python",
   "nbconvert_exporter": "python",
   "pygments_lexer": "ipython3",
   "version": "3.6.3"
  }
 },
 "nbformat": 4,
 "nbformat_minor": 2
}
